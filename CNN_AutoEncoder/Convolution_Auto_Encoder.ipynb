{
 "cells": [
  {
   "cell_type": "code",
   "execution_count": 1,
   "metadata": {},
   "outputs": [
    {
     "name": "stderr",
     "output_type": "stream",
     "text": [
      "Using TensorFlow backend.\n"
     ]
    }
   ],
   "source": [
    "import numpy as np\n",
    "import pandas as pd\n",
    "from matplotlib import pyplot as plt\n",
    "%matplotlib inline\n",
    "#I am going to create an autoencoder using keras and model from keras.model because layers are functions .\n",
    "import keras\n",
    "#we will go through the use of these layers as we use them when they are needed later down.\n",
    "from keras.layers import Convolution2D, Flatten, Dense, MaxPool2D, Activation, Dropout\n",
    "from keras.layers import UpSampling2D, Reshape, ZeroPadding2D, Input\n",
    "from keras.models import Model\n",
    "from keras.utils import np_utils"
   ]
  },
  {
   "cell_type": "code",
   "execution_count": 2,
   "metadata": {
    "collapsed": true
   },
   "outputs": [],
   "source": [
    "# Data loading from MNIST dataset it is needed to be in the same directory as your script.\n",
    "\n",
    "ds = pd.read_csv('train.csv')\n",
    "ds.shape\n",
    "#I am taking only 10000 examples to make the script run faster you can if you want take all the examples depending on \n",
    "#your computer's processing power.\n",
    "data = ds.values[:10000]"
   ]
  },
  {
   "cell_type": "code",
   "execution_count": 3,
   "metadata": {},
   "outputs": [
    {
     "name": "stdout",
     "output_type": "stream",
     "text": [
      "(10000, 784) (10000, 10)\n"
     ]
    }
   ],
   "source": [
    "#converting range of each pixel from 0 to 1.\n",
    "X = data[:, 1:]/255.0\n",
    "#Converting each y from just the class value(10000,1) to a vector representing 1 for the class it belongs to in(10000,10)\n",
    "y = np_utils.to_categorical(data[:, 0])\n",
    "\n",
    "print X.shape, y.shape"
   ]
  },
  {
   "cell_type": "code",
   "execution_count": 4,
   "metadata": {},
   "outputs": [
    {
     "name": "stdout",
     "output_type": "stream",
     "text": [
      "(8000, 28, 28, 1) (2000, 28, 28, 1)\n"
     ]
    }
   ],
   "source": [
    "#Creating training and testing data\n",
    "#We don't need y as we are not predicting.\n",
    "split = int(0.8 * X.shape[0])\n",
    "\n",
    "X_train = X[:split].reshape((-1, 28, 28, 1))\n",
    "X_test = X[split:].reshape((-1, 28, 28, 1))\n",
    "print X_train.shape, X_test.shape"
   ]
  },
  {
   "cell_type": "code",
   "execution_count": 5,
   "metadata": {},
   "outputs": [
    {
     "data": {
      "image/png": "[encoded data removed]",
      "text/plain": [
       "<matplotlib.figure.Figure at 0x10e727ed0>"
      ]
     },
     "metadata": {},
     "output_type": "display_data"
    }
   ],
   "source": [
    "n_img = 42\n",
    "#Just printing a random image in the mnist dataset\n",
    "plt.imshow(X_train[n_img].reshape((28, 28)), cmap='gray')\n",
    "plt.show()"
   ]
  },
  {
   "cell_type": "code",
   "execution_count": 6,
   "metadata": {},
   "outputs": [
    {
     "name": "stdout",
     "output_type": "stream",
     "text": [
      "_________________________________________________________________\n",
      "Layer (type)                 Output Shape              Param #   \n",
      "=================================================================\n",
      "input_1 (InputLayer)         (None, 28, 28, 1)         0         \n",
      "_________________________________________________________________\n",
      "conv2d_1 (Conv2D)            (None, 24, 24, 32)        832       \n",
      "_________________________________________________________________\n",
      "activation_1 (Activation)    (None, 24, 24, 32)        0         \n",
      "_________________________________________________________________\n",
      "max_pooling2d_1 (MaxPooling2 (None, 12, 12, 32)        0         \n",
      "_________________________________________________________________\n",
      "conv2d_2 (Conv2D)            (None, 10, 10, 8)         2312      \n",
      "_________________________________________________________________\n",
      "activation_2 (Activation)    (None, 10, 10, 8)         0         \n",
      "_________________________________________________________________\n",
      "max_pooling2d_2 (MaxPooling2 (None, 5, 5, 8)           0         \n",
      "_________________________________________________________________\n",
      "flatten_1 (Flatten)          (None, 200)               0         \n",
      "_________________________________________________________________\n",
      "dense_1 (Dense)              (None, 32)                6432      \n",
      "_________________________________________________________________\n",
      "activation_3 (Activation)    (None, 32)                0         \n",
      "_________________________________________________________________\n",
      "dense_2 (Dense)              (None, 200)               6600      \n",
      "_________________________________________________________________\n",
      "activation_4 (Activation)    (None, 200)               0         \n",
      "_________________________________________________________________\n",
      "reshape_1 (Reshape)          (None, 5, 5, 8)           0         \n",
      "_________________________________________________________________\n",
      "up_sampling2d_1 (UpSampling2 (None, 10, 10, 8)         0         \n",
      "_________________________________________________________________\n",
      "zero_padding2d_1 (ZeroPaddin (None, 12, 12, 8)         0         \n",
      "_________________________________________________________________\n",
      "conv2d_3 (Conv2D)            (None, 12, 12, 32)        2336      \n",
      "_________________________________________________________________\n",
      "up_sampling2d_2 (UpSampling2 (None, 24, 24, 32)        0         \n",
      "_________________________________________________________________\n",
      "zero_padding2d_2 (ZeroPaddin (None, 28, 28, 32)        0         \n",
      "_________________________________________________________________\n",
      "conv2d_4 (Conv2D)            (None, 28, 28, 1)         801       \n",
      "=================================================================\n",
      "Total params: 19,313\n",
      "Trainable params: 19,313\n",
      "Non-trainable params: 0\n",
      "_________________________________________________________________\n"
     ]
    }
   ],
   "source": [
    "#To properly see how convolution works or how kernel works please see CNN_MNIST . \n",
    "\n",
    "#We will first apply convolutional layer to take it down to 5,5,8 from 28,28,1 \n",
    "inp = Input(shape=(28, 28, 1))  #This is the input layer\n",
    "\n",
    "#First convolution layer with 32 kernels each of size 5,5 which gives us 24,24,32 i.e. 32 feature maps.\n",
    "\n",
    "c1 = Convolution2D(32, (5, 5))\n",
    "a1 = Activation('relu')\n",
    "\n",
    "#Now we apply maxpool with 2,2 kernel to get 12,12,32 . \n",
    "\n",
    "m1 = MaxPool2D(pool_size=(2, 2))\n",
    "\n",
    "#Second convolution layer with 8 kernels and 3,3 kernel size this gives us 10,10,8 image with 8 feature maps .\n",
    "\n",
    "c2 = Convolution2D(8, (3, 3))\n",
    "a2 = Activation('relu')\n",
    "\n",
    "#Second maxpool with 2,2 kernel to get 5,5,8 .\n",
    "\n",
    "m2 = MaxPool2D(pool_size=(2, 2))\n",
    "\n",
    "#It is now flattened to 200 size vector .\n",
    "\n",
    "f1 = Flatten()\n",
    "\n",
    "#emb shape is the final shape of vector you need as the result of encoder i have set it to 32 it is mostly preferable to\n",
    "#be a power of 2 we are using tanh as the activation function to wrap the input from -1 to 1 sigmoid is also good \n",
    "#as the output from it is 0 to 1\n",
    "\n",
    "emb_shape = 32\n",
    "e1 = Dense(emb_shape)\n",
    "emb = Activation('tanh')\n",
    "\n",
    "#We need sigmoid activation as if the input is -1 to 1in case we used tanh the we need it to be in 0 to 1 relu should be\n",
    "#avoided as it will ignore values below 0 .\n",
    "\n",
    "fc1 = Dense(200)\n",
    "a3 = Activation('sigmoid')\n",
    "\n",
    "#Recreating the matrix .\n",
    "\n",
    "re1 = Reshape((5, 5, 8))\n",
    "\n",
    "#We need to do upsampling it is the opposite of maxpool in this every value is put to the 4 cells opposite of maxpool.\n",
    "#we get 10,10,8\n",
    "\n",
    "up1 = UpSampling2D(size=(2, 2))\n",
    "\n",
    "#Now we apply zeropadding (1,1) to get two zero rows and to get 2 zero columns so we end up with 12,12,8\n",
    "\n",
    "zp1 = ZeroPadding2D(padding=(1, 1))\n",
    "\n",
    "#We apply convolution to get 12,12,32 padding = 'true' makes sure that size of the output remains same as the size of \n",
    "#input thus instead of 10,10,32 we get 12,12,32 plus the borders instead of zeroes get some value filled in them .\n",
    "#If we had applied convolution first and the padding then the borders would have remained zero .\n",
    "\n",
    "dc1 = Convolution2D(32, (3, 3), padding='same', activation='relu')\n",
    "\n",
    "#Upsampling is again done to get 24,24,32 .\n",
    "\n",
    "up2 = UpSampling2D(size=(2, 2))\n",
    "\n",
    "#We again repeat the deconvolution step to achieve 28,28,1 which was the original input .\n",
    "\n",
    "zp2 = ZeroPadding2D(padding=(2, 2))\n",
    "dc2 = Convolution2D(1, (5, 5), padding='same', activation='relu')\n",
    "\n",
    "#Now we need to wrap them as fuctions of out_enc (output of encoder) and out_model (output of model).\n",
    "\n",
    "out_enc = emb(e1(f1(m2(a2(c2(m1(a1(c1(inp)))))))))\n",
    "out_model = dc2(zp2(up2(dc1(zp1(up1(re1(a3(fc1(out_enc)))))))))\n",
    "\n",
    "#We finally complete the model building with this step .\n",
    "\n",
    "model = Model(inputs=[inp], outputs=[out_model])\n",
    "model.summary()\n",
    "\n",
    "model.compile(loss='mse', optimizer='adam', metrics=['accuracy'])\n",
    "\n",
    "#This is the encoder model compling above model we dont need to complile encoder model.\n",
    "\n",
    "encoder = Model(inputs=[inp], outputs=[out_enc])"
   ]
  },
  {
   "cell_type": "code",
   "execution_count": 7,
   "metadata": {},
   "outputs": [
    {
     "name": "stdout",
     "output_type": "stream",
     "text": [
      "_________________________________________________________________\n",
      "Layer (type)                 Output Shape              Param #   \n",
      "=================================================================\n",
      "input_1 (InputLayer)         (None, 28, 28, 1)         0         \n",
      "_________________________________________________________________\n",
      "conv2d_1 (Conv2D)            (None, 24, 24, 32)        832       \n",
      "_________________________________________________________________\n",
      "activation_1 (Activation)    (None, 24, 24, 32)        0         \n",
      "_________________________________________________________________\n",
      "max_pooling2d_1 (MaxPooling2 (None, 12, 12, 32)        0         \n",
      "_________________________________________________________________\n",
      "conv2d_2 (Conv2D)            (None, 10, 10, 8)         2312      \n",
      "_________________________________________________________________\n",
      "activation_2 (Activation)    (None, 10, 10, 8)         0         \n",
      "_________________________________________________________________\n",
      "max_pooling2d_2 (MaxPooling2 (None, 5, 5, 8)           0         \n",
      "_________________________________________________________________\n",
      "flatten_1 (Flatten)          (None, 200)               0         \n",
      "_________________________________________________________________\n",
      "dense_1 (Dense)              (None, 32)                6432      \n",
      "_________________________________________________________________\n",
      "activation_3 (Activation)    (None, 32)                0         \n",
      "=================================================================\n",
      "Total params: 9,576\n",
      "Trainable params: 9,576\n",
      "Non-trainable params: 0\n",
      "_________________________________________________________________\n"
     ]
    }
   ],
   "source": [
    "encoder.summary()"
   ]
  },
  {
   "cell_type": "code",
   "execution_count": 8,
   "metadata": {
    "scrolled": false
   },
   "outputs": [
    {
     "name": "stdout",
     "output_type": "stream",
     "text": [
      "_________________________________________________________________\n",
      "Layer (type)                 Output Shape              Param #   \n",
      "=================================================================\n",
      "input_2 (InputLayer)         (None, 32)                0         \n",
      "_________________________________________________________________\n",
      "dense_2 (Dense)              (None, 200)               6600      \n",
      "_________________________________________________________________\n",
      "activation_4 (Activation)    (None, 200)               0         \n",
      "_________________________________________________________________\n",
      "reshape_1 (Reshape)          (None, 5, 5, 8)           0         \n",
      "_________________________________________________________________\n",
      "up_sampling2d_1 (UpSampling2 (None, 10, 10, 8)         0         \n",
      "_________________________________________________________________\n",
      "zero_padding2d_1 (ZeroPaddin (None, 12, 12, 8)         0         \n",
      "_________________________________________________________________\n",
      "conv2d_3 (Conv2D)            (None, 12, 12, 32)        2336      \n",
      "_________________________________________________________________\n",
      "up_sampling2d_2 (UpSampling2 (None, 24, 24, 32)        0         \n",
      "_________________________________________________________________\n",
      "zero_padding2d_2 (ZeroPaddin (None, 28, 28, 32)        0         \n",
      "_________________________________________________________________\n",
      "conv2d_4 (Conv2D)            (None, 28, 28, 1)         801       \n",
      "=================================================================\n",
      "Total params: 9,737\n",
      "Trainable params: 9,737\n",
      "Non-trainable params: 0\n",
      "_________________________________________________________________\n"
     ]
    }
   ],
   "source": [
    "#Input to decoder .\n",
    "\n",
    "dec_inp = Input(shape=(emb_shape,))\n",
    "\n",
    "dec_out = dc2(zp2(up2(dc1(zp1(up1(re1(a3(fc1(dec_inp)))))))))\n",
    "#Creating the decoder model no need to compile it .\n",
    "decoder = Model(inputs=[dec_inp], outputs=[dec_out])\n",
    "decoder.summary()"
   ]
  },
  {
   "cell_type": "code",
   "execution_count": null,
   "metadata": {},
   "outputs": [],
   "source": []
  },
  {
   "cell_type": "code",
   "execution_count": 9,
   "metadata": {},
   "outputs": [
    {
     "name": "stdout",
     "output_type": "stream",
     "text": [
      "Train on 8000 samples, validate on 2000 samples\n",
      "Epoch 1/10\n",
      "8000/8000 [==============================] - 29s - loss: 0.0617 - acc: 0.8017 - val_loss: 0.0447 - val_acc: 0.8007\n",
      "Epoch 2/10\n",
      "8000/8000 [==============================] - 27s - loss: 0.0358 - acc: 0.8030 - val_loss: 0.0308 - val_acc: 0.8040\n",
      "Epoch 3/10\n",
      "8000/8000 [==============================] - 27s - loss: 0.0278 - acc: 0.8067 - val_loss: 0.0260 - val_acc: 0.8039\n",
      "Epoch 4/10\n",
      "8000/8000 [==============================] - 27s - loss: 0.0238 - acc: 0.8085 - val_loss: 0.0225 - val_acc: 0.8066\n",
      "Epoch 5/10\n",
      "8000/8000 [==============================] - 27s - loss: 0.0212 - acc: 0.8095 - val_loss: 0.0204 - val_acc: 0.8077\n",
      "Epoch 6/10\n",
      "8000/8000 [==============================] - 28s - loss: 0.0193 - acc: 0.8101 - val_loss: 0.0193 - val_acc: 0.8091\n",
      "Epoch 7/10\n",
      "8000/8000 [==============================] - 28s - loss: 0.0180 - acc: 0.8106 - val_loss: 0.0177 - val_acc: 0.8083\n",
      "Epoch 8/10\n",
      "8000/8000 [==============================] - 31s - loss: 0.0169 - acc: 0.8109 - val_loss: 0.0170 - val_acc: 0.8096\n",
      "Epoch 9/10\n",
      "8000/8000 [==============================] - 28s - loss: 0.0159 - acc: 0.8112 - val_loss: 0.0160 - val_acc: 0.8096\n",
      "Epoch 10/10\n",
      "8000/8000 [==============================] - 29s - loss: 0.0153 - acc: 0.8114 - val_loss: 0.0152 - val_acc: 0.8089\n"
     ]
    },
    {
     "data": {
      "text/plain": [
       "<keras.callbacks.History at 0x120e923d0>"
      ]
     },
     "execution_count": 9,
     "metadata": {},
     "output_type": "execute_result"
    }
   ],
   "source": [
    "#We almost get 81 percent accuracy.Which is pretty good.\n",
    "model.fit(X_train, X_train,\n",
    "         epochs=10,\n",
    "         shuffle=True,\n",
    "        batch_size=100,\n",
    "         validation_data=(X_test, X_test))"
   ]
  },
  {
   "cell_type": "code",
   "execution_count": 10,
   "metadata": {},
   "outputs": [
    {
     "name": "stdout",
     "output_type": "stream",
     "text": [
      "(100, 32)\n"
     ]
    }
   ],
   "source": [
    "#Seeing how well does the encoder work for first 100 examples\n",
    "enc_out = encoder.predict(X_train[:100])\n",
    "print enc_out.shape"
   ]
  },
  {
   "cell_type": "code",
   "execution_count": null,
   "metadata": {},
   "outputs": [],
   "source": []
  },
  {
   "cell_type": "code",
   "execution_count": 12,
   "metadata": {},
   "outputs": [
    {
     "name": "stdout",
     "output_type": "stream",
     "text": [
      "(100, 28, 28, 1)\n"
     ]
    }
   ],
   "source": [
    "#Putting the output of encoder in the decoder to recreate those images .\n",
    "rec = decoder.predict(enc_out)\n",
    "print rec.shape"
   ]
  },
  {
   "cell_type": "code",
   "execution_count": 15,
   "metadata": {},
   "outputs": [
    {
     "data": {
      "image/png": "[encoded data removed]",
      "text/plain": [
       "<matplotlib.figure.Figure at 0x1215e6510>"
      ]
     },
     "metadata": {},
     "output_type": "display_data"
    },
    {
     "data": {
      "image/png": "[encoded data removed]",
      "text/plain": [
       "<matplotlib.figure.Figure at 0x1215ba2d0>"
      ]
     },
     "metadata": {},
     "output_type": "display_data"
    }
   ],
   "source": [
    "nx = 15\n",
    "\n",
    "plt.figure(0)\n",
    "plt.imshow(X_train[nx].reshape((28, 28)), cmap='gray')\n",
    "\n",
    "plt.figure(1)\n",
    "plt.imshow(rec[nx].reshape((28, 28)), cmap='gray')\n",
    "\n",
    "plt.show()"
   ]
  },
  {
   "cell_type": "code",
   "execution_count": null,
   "metadata": {
    "collapsed": true
   },
   "outputs": [],
   "source": []
  },
  {
   "cell_type": "code",
   "execution_count": null,
   "metadata": {
    "collapsed": true
   },
   "outputs": [],
   "source": []
  }
 ],
 "metadata": {
  "kernelspec": {
   "display_name": "Python 2",
   "language": "python",
   "name": "python2"
  },
  "language_info": {
   "codemirror_mode": {
    "name": "ipython",
    "version": 2
   },
   "file_extension": ".py",
   "mimetype": "text/x-python",
   "name": "python",
   "nbconvert_exporter": "python",
   "pygments_lexer": "ipython2",
   "version": "2.7.13"
  }
 },
 "nbformat": 4,
 "nbformat_minor": 2
}
