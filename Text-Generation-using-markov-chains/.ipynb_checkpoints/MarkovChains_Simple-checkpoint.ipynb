{
 "cells": [
  {
   "cell_type": "code",
   "execution_count": 32,
   "metadata": {
    "collapsed": true
   },
   "outputs": [],
   "source": [
    "import numpy as np\n",
    "import re\n",
    "from matplotlib import pyplot as plt\n",
    "%matplotlib inline\n",
    "import random"
   ]
  },
  {
   "cell_type": "code",
   "execution_count": 33,
   "metadata": {
    "collapsed": true
   },
   "outputs": [],
   "source": [
    "#To take file input.txt as input .\n",
    "f = open('input.txt', 'r')\n",
    "ds = f.read()\n",
    "f.close()"
   ]
  },
  {
   "cell_type": "code",
   "execution_count": 34,
   "metadata": {
    "collapsed": true
   },
   "outputs": [],
   "source": [
    "# ds.index('A STUDY IN SCARLET') returns 2525 we start from there. Length has been taken as 50000 . data has been \n",
    "#created by removing '\\n' and stripping it off whitespaces . (Data preprocessing)\n",
    "start = 2525\n",
    "length = 50000\n",
    "data = ' '.join([ix.strip() for ix in ds[start:start+length].split('\\n')]).lower()"
   ]
  },
  {
   "cell_type": "code",
   "execution_count": 35,
   "metadata": {},
   "outputs": [
    {
     "name": "stdout",
     "output_type": "stream",
     "text": [
      "45869\n"
     ]
    }
   ],
   "source": [
    "# print length of data\n",
    "print len(data)"
   ]
  },
  {
   "cell_type": "code",
   "execution_count": 36,
   "metadata": {
    "collapsed": true
   },
   "outputs": [],
   "source": [
    "#We use dictionary data structure to create and operate markov chain. Let T be that dictionary .\n",
    "T = {}\n",
    "\n",
    "#Define order of the Markov chain it captures the context the larger it is more number of character it uses to predict\n",
    "#the next state (letter).More accurate it is . But at the same time computation is more time consuming .\n",
    "order = 20\n",
    "#Loop to create dictionary with alphabet as key and having the number of occurences of the next alphabet stored as\n",
    "#dictionary\n",
    "for ix in range(len(data)-order):\n",
    "    # get the current context\n",
    "    ctx = data[ix:ix+order]\n",
    "    \n",
    "    # get the future val the alphabet after ctx(length is order) .\n",
    "    future_val = data[ix+order]\n",
    "    \n",
    "    # check if the context exists\n",
    "    if T.get(ctx) is None:\n",
    "        #If t[ctx] does not exist then we create it and initialize it .\n",
    "        T[ctx] = {}\n",
    "        T[ctx][future_val] = 1\n",
    "    else:\n",
    "        # check if the future_val key exists\n",
    "        if T[ctx].get(future_val) is None:\n",
    "            #If future val does not exist then we create it .\n",
    "            T[ctx][future_val] = 1\n",
    "        else:\n",
    "            #if the future val exists then we just increment it by one .\n",
    "            T[ctx][future_val] += 1"
   ]
  },
  {
   "cell_type": "code",
   "execution_count": 37,
   "metadata": {
    "collapsed": true,
    "scrolled": false
   },
   "outputs": [],
   "source": [
    "#We calculate probabilities for ech of them i.e. the probability for each context \n",
    "for kx in T.keys():\n",
    "    s = float(sum(T[kx].values()))\n",
    "    \n",
    "    for k in T[kx].keys():\n",
    "        T[kx][k] = T[kx][k]/s\n"
   ]
  },
  {
   "cell_type": "code",
   "execution_count": 38,
   "metadata": {},
   "outputs": [
    {
     "data": {
      "image/png": "[encoded data removed]",
      "text/plain": [
       "<matplotlib.figure.Figure at 0x10656b910>"
      ]
     },
     "metadata": {},
     "output_type": "display_data"
    }
   ],
   "source": [
    "#WE calculate boltzmann distribution if temp is greater than 1 it leads to more diversity that is occurence of all the \n",
    "#letters with lower prob increases and higher prob decreases . For boltzmann we use log probabilities .\n",
    "def temp_sample(probs, temp=1.0):\n",
    "    probs = np.asarray(probs)\n",
    "    exp_probs = np.exp(np.log(probs) / temp)\n",
    "    \n",
    "    return list(exp_probs / exp_probs.sum())\n",
    "\n",
    "p = [0.1, 0.1, 0.4, 0.2, 0.15, 0.05]\n",
    "q = temp_sample(p, 1.4)\n",
    "#We make two plots to visualize diversity .\n",
    "plt.plot(p, 'go-')\n",
    "plt.plot(q, 'r*-')\n",
    "\n",
    "plt.show()"
   ]
  },
  {
   "cell_type": "code",
   "execution_count": 39,
   "metadata": {
    "collapsed": true
   },
   "outputs": [],
   "source": [
    "#We set diversity = 1 by default we can increase it to get more diversity. \n",
    "#For generating the next alphabet we first get r a random number btw 0 and 1 then we shuffle the keys that are values\n",
    "#in context among those values we see their probabilities those value with prob greater than r is returned if such\n",
    "#a case doesn't happen then we randomly return a shuffled_keys . \n",
    "def generate_next(ctx, diversity=1.0):\n",
    "    r = np.random.random()\n",
    "    \n",
    "    possible = T.get(ctx)\n",
    "    \n",
    "    if possible is None:\n",
    "        return ' '\n",
    "    shuffled_keys = possible.keys()\n",
    "    random.shuffle(shuffled_keys)\n",
    "    \n",
    "    key_probs = [possible[kx] for kx in shuffled_keys]\n",
    "    \n",
    "    key_probs = temp_sample(key_probs, temp=diversity)\n",
    "    \n",
    "    for kx in range(len(key_probs)):\n",
    "        if r < key_probs[kx]:\n",
    "            return shuffled_keys[kx]\n",
    "    return random.choice(shuffled_keys)"
   ]
  },
  {
   "cell_type": "code",
   "execution_count": null,
   "metadata": {
    "collapsed": true
   },
   "outputs": [],
   "source": []
  },
  {
   "cell_type": "code",
   "execution_count": 40,
   "metadata": {},
   "outputs": [
    {
     "name": "stdout",
     "output_type": "stream",
     "text": [
      "of it to the left and to the right. one of these had obviously been closed for many weeks. the other belonged to the dining-room, which was the apartment in which the mysterious affair had occurred. holmes walked in, and i followed him with that subdued feeling at my heart which the presence of death inspires.  it was a large square room, looking all the larger from the absence of all furniture. a vulgar flaring paper adorned the walls, but it was blotched in places with mildew, and here and there great strips had become detached and hung down, exposing the yellow plaster beneath. opposite the door was a showy fireplace, surmounted by a mantelpiece of imitation white marble. on one corner of this was stuck the stump of a red wax candle. the solitary window was so dirty that the light was hazy and uncertain, giving a dull grey tinge to everything, which was intensified b                    part i  (being a reprint from the reminiscences of john h. watson, m.d., late of the army medical department.)      ch\n"
     ]
    }
   ],
   "source": [
    "#we make a sentence a string and then randomly initialize a initial state and then generate next 1000 alphabets by\n",
    "#continously updating ctx (context) . We finally print the sentence that has been generated .\n",
    "ind = int(np.random.random()*(len(data)-order))\n",
    "initial_state = data[ind:ind+order]\n",
    "ctx = initial_state\n",
    "\n",
    "sentence = '' + ctx\n",
    "\n",
    "for ix in range(1000):\n",
    "    nxt = generate_next(ctx, diversity=1.5)\n",
    "    sentence += nxt\n",
    "    ctx = sentence[-order:]\n",
    "\n",
    "print sentence"
   ]
  },
  {
   "cell_type": "code",
   "execution_count": 41,
   "metadata": {},
   "outputs": [],
   "source": [
    "#WEll this is something small extra i just plotted the no. of words having various length . \n",
    "#No. of words(having that length) vs length of each word ."
   ]
  },
  {
   "cell_type": "code",
   "execution_count": 42,
   "metadata": {},
   "outputs": [],
   "source": [
    "#I created a list a in which i have put the alphabets in that word . I have created a list c in which i have appended \n",
    "#the list a(having alphabets of the word before ' ') .\n",
    "a = []\n",
    "c = []\n",
    "for i in data:\n",
    "    if i != ' ':\n",
    "        a.append(i)\n",
    "    else :\n",
    "        c.append(a)\n",
    "        a = []\n",
    "#ti is the dictionary \n",
    "ti = {}\n",
    "#In this we have made the length of word as our key and the number of words of that length as its values . where ss is \n",
    "#length of the word in the list .\n",
    "for i in c:\n",
    "    ss = len(i)\n",
    "    if ss in ti.keys():\n",
    "        ti[ss] += 1\n",
    "    else :\n",
    "        ti[ss] = 1"
   ]
  },
  {
   "cell_type": "code",
   "execution_count": 43,
   "metadata": {},
   "outputs": [
    {
     "data": {
      "text/plain": [
       "[209,\n",
       " 458,\n",
       " 1558,\n",
       " 1651,\n",
       " 1259,\n",
       " 880,\n",
       " 631,\n",
       " 563,\n",
       " 408,\n",
       " 334,\n",
       " 194,\n",
       " 118,\n",
       " 83,\n",
       " 43,\n",
       " 18,\n",
       " 6,\n",
       " 6,\n",
       " 4,\n",
       " 4,\n",
       " 1,\n",
       " 1,\n",
       " 2,\n",
       " 1]"
      ]
     },
     "execution_count": 43,
     "metadata": {},
     "output_type": "execute_result"
    }
   ],
   "source": [
    "ti.values()"
   ]
  },
  {
   "cell_type": "code",
   "execution_count": 44,
   "metadata": {},
   "outputs": [
    {
     "data": {
      "text/plain": [
       "[<matplotlib.lines.Line2D at 0x105a8b410>]"
      ]
     },
     "execution_count": 44,
     "metadata": {},
     "output_type": "execute_result"
    },
    {
     "data": {
      "image/png": "[encoded data removed]",
      "text/plain": [
       "<matplotlib.figure.Figure at 0x105d315d0>"
      ]
     },
     "metadata": {},
     "output_type": "display_data"
    }
   ],
   "source": [
    "#The plot as expected is gaussian (normal) curve .\n",
    "plt.plot(ti.keys(), ti.values(), color='g')"
   ]
  },
  {
   "cell_type": "code",
   "execution_count": null,
   "metadata": {
    "collapsed": true
   },
   "outputs": [],
   "source": []
  }
 ],
 "metadata": {
  "kernelspec": {
   "display_name": "Python 2",
   "language": "python",
   "name": "python2"
  },
  "language_info": {
   "codemirror_mode": {
    "name": "ipython",
    "version": 2
   },
   "file_extension": ".py",
   "mimetype": "text/x-python",
   "name": "python",
   "nbconvert_exporter": "python",
   "pygments_lexer": "ipython2",
   "version": "2.7.13"
  }
 },
 "nbformat": 4,
 "nbformat_minor": 2
}
