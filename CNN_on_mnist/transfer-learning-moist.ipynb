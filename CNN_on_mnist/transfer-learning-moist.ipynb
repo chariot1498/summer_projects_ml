{
 "cells": [
  {
   "cell_type": "code",
   "execution_count": 84,
   "metadata": {
    "collapsed": true
   },
   "outputs": [],
   "source": [
    "import numpy as np\n",
    "import pandas as pd\n",
    "from matplotlib import pyplot as plt\n",
    "%matplotlib inline\n",
    "#I am going to use keras for creating convolution neural network\n",
    "import keras\n",
    "#I am using sequential model . model from keras.models can also be used and create layers as functions \n",
    "from keras.layers import Convolution2D, Flatten, Dense, MaxPool2D, Activation, Dropout\n",
    "from keras.models import Sequential\n",
    "from keras.utils import np_utils\n",
    "import datetime"
   ]
  },
  {
   "cell_type": "code",
   "execution_count": 85,
   "metadata": {},
   "outputs": [
    {
     "name": "stdout",
     "output_type": "stream",
     "text": [
      "(42000, 785)\n"
     ]
    }
   ],
   "source": [
    "# Data loading you need to download mnist from kaggle and keep it in the same directory as this notebook to run this cell\n",
    "\n",
    "ds = pd.read_csv('train.csv')\n",
    "ds.shape\n",
    "data = ds.values\n",
    "print data.shape"
   ]
  },
  {
   "cell_type": "code",
   "execution_count": 86,
   "metadata": {},
   "outputs": [
    {
     "data": {
      "text/plain": [
       "4"
      ]
     },
     "execution_count": 86,
     "metadata": {},
     "output_type": "execute_result"
    }
   ],
   "source": [
    "data[445][0]"
   ]
  },
  {
   "cell_type": "code",
   "execution_count": 87,
   "metadata": {
    "collapsed": true
   },
   "outputs": [],
   "source": [
    "#Dividing data in da digits less than 5 others in da2\n",
    "da = []\n",
    "da2 = []\n",
    "for i in range(data.shape[0]):\n",
    "    if data[i][0] < 5 :\n",
    "        da.append(data[i])\n",
    "    else :\n",
    "        da2.append(data[i])\n",
    "da = np.array(da)        \n",
    "da2 = np.array(da2)"
   ]
  },
  {
   "cell_type": "code",
   "execution_count": 88,
   "metadata": {},
   "outputs": [
    {
     "data": {
      "text/plain": [
       "(21416, 785)"
      ]
     },
     "execution_count": 88,
     "metadata": {},
     "output_type": "execute_result"
    }
   ],
   "source": [
    "da.shape"
   ]
  },
  {
   "cell_type": "code",
   "execution_count": null,
   "metadata": {
    "collapsed": true
   },
   "outputs": [],
   "source": []
  },
  {
   "cell_type": "code",
   "execution_count": 89,
   "metadata": {},
   "outputs": [
    {
     "name": "stdout",
     "output_type": "stream",
     "text": [
      "(21416, 784) (21416, 5)\n"
     ]
    }
   ],
   "source": [
    "#converting range of each pixel from 0 to 1.\n",
    "X = da[:, 1:]/255.0\n",
    "#Converting each y from just the class value(42000,1) to a vector representing 1 for the class (42000,10)\n",
    "y = np_utils.to_categorical(da[:, 0])\n",
    "\n",
    "print X.shape, y.shape"
   ]
  },
  {
   "cell_type": "code",
   "execution_count": 90,
   "metadata": {},
   "outputs": [
    {
     "name": "stdout",
     "output_type": "stream",
     "text": [
      "(20584, 784) (20584, 5)\n"
     ]
    }
   ],
   "source": [
    "#converting range of each pixel from 0 to 1.\n",
    "X2 = da2[:, 1:]/255.0\n",
    "#Converting each y from just the class value(42000,1) to a vector representing 1 for the class (42000,10)\n",
    "y2 = np_utils.to_categorical(da2[:, 0]-5,num_classes = 5)\n",
    "\n",
    "print X2.shape, y2.shape"
   ]
  },
  {
   "cell_type": "code",
   "execution_count": 91,
   "metadata": {},
   "outputs": [
    {
     "name": "stdout",
     "output_type": "stream",
     "text": [
      "(17132, 28, 28, 1) (4284, 28, 28, 1)\n",
      "(17132, 5) (4284, 5)\n"
     ]
    }
   ],
   "source": [
    "#Creating training and testing data\n",
    "split = int(0.8 * X.shape[0])\n",
    "\n",
    "X_train = X[:split].reshape((-1, 28, 28, 1))\n",
    "X_test = X[split:].reshape((-1, 28, 28, 1))\n",
    "\n",
    "y_train = y[:split]\n",
    "y_test = y[split:]\n",
    "\n",
    "print X_train.shape, X_test.shape\n",
    "print y_train.shape, y_test.shape"
   ]
  },
  {
   "cell_type": "code",
   "execution_count": 92,
   "metadata": {},
   "outputs": [
    {
     "name": "stdout",
     "output_type": "stream",
     "text": [
      "(16467, 28, 28, 1) (4117, 28, 28, 1)\n",
      "(16467, 5) (4117, 5)\n"
     ]
    }
   ],
   "source": [
    "#Creating training and testing data\n",
    "split = int(0.8 * X2.shape[0])\n",
    "\n",
    "X2_train = X2[:split].reshape((-1, 28, 28, 1))\n",
    "X2_test = X2[split:].reshape((-1, 28, 28, 1))\n",
    "\n",
    "y2_train = y2[:split]\n",
    "y2_test = y2[split:]\n",
    "\n",
    "print X2_train.shape, X2_test.shape\n",
    "print y2_train.shape, y2_test.shape"
   ]
  },
  {
   "cell_type": "code",
   "execution_count": 93,
   "metadata": {},
   "outputs": [
    {
     "data": {
      "image/png": "[encoded data removed]",
      "text/plain": [
       "<matplotlib.figure.Figure at 0x118b20fd0>"
      ]
     },
     "metadata": {},
     "output_type": "display_data"
    }
   ],
   "source": [
    "n_img = 21\n",
    "#Just printing a random image in the mnist dataset\n",
    "plt.imshow(X_train[n_img].reshape((28, 28)), cmap='gray')\n",
    "plt.show()"
   ]
  },
  {
   "cell_type": "code",
   "execution_count": 94,
   "metadata": {},
   "outputs": [
    {
     "name": "stdout",
     "output_type": "stream",
     "text": [
      "_________________________________________________________________\n",
      "Layer (type)                 Output Shape              Param #   \n",
      "=================================================================\n",
      "conv2d_16 (Conv2D)           (None, 26, 26, 32)        320       \n",
      "_________________________________________________________________\n",
      "activation_24 (Activation)   (None, 26, 26, 32)        0         \n",
      "_________________________________________________________________\n",
      "conv2d_17 (Conv2D)           (None, 24, 24, 16)        4624      \n",
      "_________________________________________________________________\n",
      "activation_25 (Activation)   (None, 24, 24, 16)        0         \n",
      "_________________________________________________________________\n",
      "max_pooling2d_11 (MaxPooling (None, 12, 12, 16)        0         \n",
      "_________________________________________________________________\n",
      "conv2d_18 (Conv2D)           (None, 10, 10, 8)         1160      \n",
      "_________________________________________________________________\n",
      "activation_26 (Activation)   (None, 10, 10, 8)         0         \n",
      "_________________________________________________________________\n",
      "max_pooling2d_12 (MaxPooling (None, 5, 5, 8)           0         \n",
      "_________________________________________________________________\n",
      "flatten_6 (Flatten)          (None, 200)               0         \n",
      "_________________________________________________________________\n",
      "dropout_6 (Dropout)          (None, 200)               0         \n",
      "_________________________________________________________________\n",
      "dense_9 (Dense)              (None, 5)                 1005      \n",
      "_________________________________________________________________\n",
      "activation_27 (Activation)   (None, 5)                 0         \n",
      "=================================================================\n",
      "Total params: 7,109\n",
      "Trainable params: 7,109\n",
      "Non-trainable params: 0\n",
      "_________________________________________________________________\n"
     ]
    }
   ],
   "source": [
    "# Build the model sequential \n",
    "\n",
    "model = Sequential()\n",
    "\n",
    "#adding the first convolution layer with 32 kernels and kernel size 3*3.Since it is rgb we have 1 feature map in the\n",
    "#input image. this will output an image with 26,26,32 32 feature maps for each kernel even if the image was rgb\n",
    "#we would have still got 32 feature maps as each kernel would have calculated a feature map for each of the three and \n",
    "#taken it's average. relu seems to be a nice activation in this case though sigmoid would also work.Parameter involved\n",
    "#would be 32*9(weights inside each kernel) + 32(bias of each kernel) .\n",
    "\n",
    "model.add(Convolution2D(32, (3, 3), input_shape=(28, 28, 1)))\n",
    "model.add(Activation('relu'))\n",
    "\n",
    "#Second layer with 16 kernels and each kernel 3*3 it gives us 24,24,16 i.e. 16 feature maps. The number of parameters \n",
    "#are 16*9*32(wieghts inside kernel) + 16(bias of each kernel)\n",
    "\n",
    "model.add(Convolution2D(16, (3, 3)))\n",
    "model.add(Activation('relu'))\n",
    "\n",
    "#We add a layer of maxpool in this the kernel(size = 2,2) fits over 2*2 block of image and takes the max value from the\n",
    "#4 cells thus the image is of size = 24/2,24/2,16 = 12,12,16\n",
    "\n",
    "model.add(MaxPool2D(pool_size=(2, 2)))\n",
    "\n",
    "#Third layer of convolution with 8 kernels of size 3*3 this results in an image of size 10,10,8 with 8 feature maps \n",
    "#and 8*16*9(weights inside kernel)+8(bias) = 1160 parameters\n",
    "\n",
    "model.add(Convolution2D(8, (3, 3)))\n",
    "model.add(Activation('relu'))\n",
    "\n",
    "#Second maxpool layer again of size 2*2 thus resulting image is of size = 10/2,10/2,8 = 5,5,8\n",
    "\n",
    "model.add(MaxPool2D(pool_size=(2, 2)))\n",
    "\n",
    "#flatten the image to 5*5*8 = 200 (200,1) so that final pred could be done as final layer is dense it needs a vector \n",
    "#while convolutions needed a matrix\n",
    "\n",
    "model.add(Flatten())\n",
    "\n",
    "#To prevent overfitting drop out is added.\n",
    "\n",
    "model.add(Dropout(0.4))\n",
    "\n",
    "#final layer for prediction it is using softmax to calculate probability for the 10 classes. \n",
    "\n",
    "model.add(Dense(5))\n",
    "model.add(Activation('softmax'))\n",
    "\n",
    "#We use categorical_crossentropy as loss function and adam as the optimizer . \n",
    "\n",
    "model.summary()\n",
    "model.compile(loss='categorical_crossentropy', optimizer='adam', metrics=['accuracy'])"
   ]
  },
  {
   "cell_type": "code",
   "execution_count": 95,
   "metadata": {},
   "outputs": [
    {
     "name": "stdout",
     "output_type": "stream",
     "text": [
      "Train on 17132 samples, validate on 4284 samples\n",
      "Epoch 1/4\n",
      "17132/17132 [==============================] - 25s - loss: 0.5177 - acc: 0.8094 - val_loss: 0.0839 - val_acc: 0.9725\n",
      "Epoch 2/4\n",
      "17132/17132 [==============================] - 25s - loss: 0.1213 - acc: 0.9632 - val_loss: 0.0524 - val_acc: 0.9853\n",
      "Epoch 3/4\n",
      "17132/17132 [==============================] - 25s - loss: 0.0850 - acc: 0.9741 - val_loss: 0.0399 - val_acc: 0.9883\n",
      "Epoch 4/4\n",
      "17132/17132 [==============================] - 25s - loss: 0.0702 - acc: 0.9769 - val_loss: 0.0358 - val_acc: 0.9904\n"
     ]
    }
   ],
   "source": [
    "#training takes over 8 minutes on my cpu based mac having gpu would make the whole time faster . train it for da\n",
    "hist = model.fit(X_train, y_train,\n",
    "                epochs=4,\n",
    "                shuffle=True,\n",
    "                batch_size=100,\n",
    "                validation_data=(X_test, y_test))"
   ]
  },
  {
   "cell_type": "code",
   "execution_count": 96,
   "metadata": {},
   "outputs": [
    {
     "data": {
      "text/plain": [
       "[<keras.layers.convolutional.Conv2D at 0x1192ec9d0>,\n",
       " <keras.layers.core.Activation at 0x1192ec710>,\n",
       " <keras.layers.convolutional.Conv2D at 0x1180121d0>,\n",
       " <keras.layers.core.Activation at 0x1192c2650>,\n",
       " <keras.layers.pooling.MaxPooling2D at 0x118ba1b90>,\n",
       " <keras.layers.convolutional.Conv2D at 0x1180120d0>,\n",
       " <keras.layers.core.Activation at 0x118012d10>,\n",
       " <keras.layers.pooling.MaxPooling2D at 0x11801eb10>,\n",
       " <keras.layers.core.Flatten at 0x1192cf990>]"
      ]
     },
     "execution_count": 96,
     "metadata": {},
     "output_type": "execute_result"
    }
   ],
   "source": [
    "model.layers[:-3]"
   ]
  },
  {
   "cell_type": "code",
   "execution_count": 97,
   "metadata": {},
   "outputs": [
    {
     "name": "stdout",
     "output_type": "stream",
     "text": [
      "_________________________________________________________________\n",
      "Layer (type)                 Output Shape              Param #   \n",
      "=================================================================\n",
      "conv2d_16 (Conv2D)           (None, 26, 26, 32)        320       \n",
      "_________________________________________________________________\n",
      "activation_24 (Activation)   (None, 26, 26, 32)        0         \n",
      "_________________________________________________________________\n",
      "conv2d_17 (Conv2D)           (None, 24, 24, 16)        4624      \n",
      "_________________________________________________________________\n",
      "activation_25 (Activation)   (None, 24, 24, 16)        0         \n",
      "_________________________________________________________________\n",
      "max_pooling2d_11 (MaxPooling (None, 12, 12, 16)        0         \n",
      "_________________________________________________________________\n",
      "conv2d_18 (Conv2D)           (None, 10, 10, 8)         1160      \n",
      "_________________________________________________________________\n",
      "activation_26 (Activation)   (None, 10, 10, 8)         0         \n",
      "_________________________________________________________________\n",
      "max_pooling2d_12 (MaxPooling (None, 5, 5, 8)           0         \n",
      "_________________________________________________________________\n",
      "flatten_6 (Flatten)          (None, 200)               0         \n",
      "_________________________________________________________________\n",
      "dense_10 (Dense)             (None, 5)                 1005      \n",
      "_________________________________________________________________\n",
      "activation_28 (Activation)   (None, 5)                 0         \n",
      "=================================================================\n",
      "Total params: 7,109\n",
      "Trainable params: 1,005\n",
      "Non-trainable params: 6,104\n",
      "_________________________________________________________________\n"
     ]
    }
   ],
   "source": [
    "#took the convolutional layers and turned their training of and added new dense(output) layer for da2\n",
    "trans_model = Sequential(model.layers[:-3])\n",
    "for ix in trans_model.layers :\n",
    "    ix.trainable = False\n",
    "trans_model.add(Dense(5))\n",
    "trans_model.add(Activation('softmax'))\n",
    "trans_model.summary()\n",
    "\n",
    "trans_model.compile(loss='categorical_crossentropy', optimizer='adam', metrics=['accuracy'])"
   ]
  },
  {
   "cell_type": "code",
   "execution_count": 98,
   "metadata": {},
   "outputs": [
    {
     "name": "stdout",
     "output_type": "stream",
     "text": [
      "Train on 16467 samples, validate on 4117 samples\n",
      "Epoch 1/4\n",
      "16467/16467 [==============================] - 9s - loss: 0.5949 - acc: 0.8026 - val_loss: 0.2266 - val_acc: 0.9439\n",
      "Epoch 2/4\n",
      "16467/16467 [==============================] - 9s - loss: 0.1802 - acc: 0.9523 - val_loss: 0.1432 - val_acc: 0.9658\n",
      "Epoch 3/4\n",
      "16467/16467 [==============================] - 11s - loss: 0.1295 - acc: 0.9648 - val_loss: 0.1132 - val_acc: 0.9728\n",
      "Epoch 4/4\n",
      "16467/16467 [==============================] - 9s - loss: 0.1065 - acc: 0.9701 - val_loss: 0.0940 - val_acc: 0.9755\n"
     ]
    }
   ],
   "source": [
    "#training takes over 8 minutes on my cpu based mac having gpu would make the whole time faster .run it for da2\n",
    "hist = trans_model.fit(X2_train, y2_train,\n",
    "                epochs=4,\n",
    "                shuffle=True,\n",
    "                batch_size=100,\n",
    "                validation_data=(X2_test, y2_test))"
   ]
  },
  {
   "cell_type": "code",
   "execution_count": null,
   "metadata": {
    "collapsed": true
   },
   "outputs": [],
   "source": []
  }
 ],
 "metadata": {
  "kernelspec": {
   "display_name": "Python 2",
   "language": "python",
   "name": "python2"
  },
  "language_info": {
   "codemirror_mode": {
    "name": "ipython",
    "version": 2
   },
   "file_extension": ".py",
   "mimetype": "text/x-python",
   "name": "python",
   "nbconvert_exporter": "python",
   "pygments_lexer": "ipython2",
   "version": "2.7.13"
  }
 },
 "nbformat": 4,
 "nbformat_minor": 2
}
