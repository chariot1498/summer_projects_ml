{
 "cells": [
  {
   "cell_type": "code",
   "execution_count": 12,
   "metadata": {},
   "outputs": [],
   "source": [
    "import numpy as np\n",
    "import pandas as pd\n",
    "from matplotlib import pyplot as plt\n",
    "%matplotlib inline\n",
    "#I am going to use keras for creating convolution neural network\n",
    "import keras\n",
    "#I am using sequential model . model from keras.models can also be used and create layers as functions \n",
    "from keras.layers import Convolution2D, Flatten, Dense, MaxPool2D, Activation, Dropout\n",
    "from keras.models import Sequential\n",
    "from keras.utils import np_utils"
   ]
  },
  {
   "cell_type": "code",
   "execution_count": 6,
   "metadata": {},
   "outputs": [],
   "source": [
    "# Data loading you need to download mnist from kaggle and keep it in the same directory as this notebook to run this cell\n",
    "\n",
    "ds = pd.read_csv('train.csv')\n",
    "ds.shape\n",
    "data = ds.values"
   ]
  },
  {
   "cell_type": "code",
   "execution_count": 7,
   "metadata": {},
   "outputs": [
    {
     "name": "stdout",
     "output_type": "stream",
     "text": [
      "(42000, 784) (42000, 10)\n"
     ]
    }
   ],
   "source": [
    "#converting range of each pixel from 0 to 1.\n",
    "X = data[:, 1:]/255.0\n",
    "#Converting each y from just the class value(42000,1) to a vector representing 1 for the class (42000,10)\n",
    "y = np_utils.to_categorical(data[:, 0])\n",
    "\n",
    "print X.shape, y.shape"
   ]
  },
  {
   "cell_type": "code",
   "execution_count": 8,
   "metadata": {},
   "outputs": [
    {
     "name": "stdout",
     "output_type": "stream",
     "text": [
      "(33600, 28, 28, 1) (8400, 28, 28, 1)\n",
      "(33600, 10) (8400, 10)\n"
     ]
    }
   ],
   "source": [
    "#Creating training and testing data\n",
    "split = int(0.8 * X.shape[0])\n",
    "\n",
    "X_train = X[:split].reshape((-1, 28, 28, 1))\n",
    "X_test = X[split:].reshape((-1, 28, 28, 1))\n",
    "\n",
    "y_train = y[:split]\n",
    "y_test = y[split:]\n",
    "\n",
    "print X_train.shape, X_test.shape\n",
    "print y_train.shape, y_test.shape"
   ]
  },
  {
   "cell_type": "code",
   "execution_count": 9,
   "metadata": {},
   "outputs": [
    {
     "data": {
      "image/png": "[encoded data removed]",
      "text/plain": [
       "<matplotlib.figure.Figure at 0x11efcf490>"
      ]
     },
     "metadata": {},
     "output_type": "display_data"
    }
   ],
   "source": [
    "n_img = 21\n",
    "#Just printing a random image in the mnist dataset\n",
    "plt.imshow(X_train[n_img].reshape((28, 28)), cmap='gray')\n",
    "plt.show()"
   ]
  },
  {
   "cell_type": "code",
   "execution_count": 10,
   "metadata": {},
   "outputs": [
    {
     "name": "stdout",
     "output_type": "stream",
     "text": [
      "_________________________________________________________________\n",
      "Layer (type)                 Output Shape              Param #   \n",
      "=================================================================\n",
      "conv2d_1 (Conv2D)            (None, 26, 26, 32)        320       \n",
      "_________________________________________________________________\n",
      "activation_1 (Activation)    (None, 26, 26, 32)        0         \n",
      "_________________________________________________________________\n",
      "conv2d_2 (Conv2D)            (None, 24, 24, 16)        4624      \n",
      "_________________________________________________________________\n",
      "activation_2 (Activation)    (None, 24, 24, 16)        0         \n",
      "_________________________________________________________________\n",
      "max_pooling2d_1 (MaxPooling2 (None, 12, 12, 16)        0         \n",
      "_________________________________________________________________\n",
      "conv2d_3 (Conv2D)            (None, 10, 10, 8)         1160      \n",
      "_________________________________________________________________\n",
      "activation_3 (Activation)    (None, 10, 10, 8)         0         \n",
      "_________________________________________________________________\n",
      "max_pooling2d_2 (MaxPooling2 (None, 5, 5, 8)           0         \n",
      "_________________________________________________________________\n",
      "flatten_1 (Flatten)          (None, 200)               0         \n",
      "_________________________________________________________________\n",
      "dropout_1 (Dropout)          (None, 200)               0         \n",
      "_________________________________________________________________\n",
      "dense_1 (Dense)              (None, 10)                2010      \n",
      "_________________________________________________________________\n",
      "activation_4 (Activation)    (None, 10)                0         \n",
      "=================================================================\n",
      "Total params: 8,114\n",
      "Trainable params: 8,114\n",
      "Non-trainable params: 0\n",
      "_________________________________________________________________\n"
     ]
    }
   ],
   "source": [
    "# Build the model sequential\n",
    "\n",
    "model = Sequential()\n",
    "\n",
    "#adding the first convolution layer with 32 kernels and kernel size 3*3.Since it is rgb we have 1 feature map in the\n",
    "#input image. this will output an image with 26,26,32 32 feature maps for each kernel even if the image was rgb\n",
    "#we would have still got 32 feature maps as each kernel would have calculated a feature map for each of the three and \n",
    "#taken it's average. relu seems to be a nice activation in this case though sigmoid would also work.Parameter involved\n",
    "#would be 32*9(weights inside each kernel) + 32(bias of each kernel) .\n",
    "\n",
    "model.add(Convolution2D(32, (3, 3), input_shape=(28, 28, 1)))\n",
    "model.add(Activation('relu'))\n",
    "\n",
    "#Second layer with 16 kernels and each kernel 3*3 it gives us 24,24,16 i.e. 16 feature maps. The number of parameters \n",
    "#are 16*9*32(wieghts inside kernel) + 16(bias of each kernel)\n",
    "\n",
    "model.add(Convolution2D(16, (3, 3)))\n",
    "model.add(Activation('relu'))\n",
    "\n",
    "#We add a layer of maxpool in this the kernel(size = 2,2) fits over 2*2 block of image and takes the max value from the\n",
    "#4 cells thus the image is of size = 24/2,24/2,16 = 12,12,16\n",
    "\n",
    "model.add(MaxPool2D(pool_size=(2, 2)))\n",
    "\n",
    "#Third layer of convolution with 8 kernels of size 3*3 this results in an image of size 10,10,8 with 8 feature maps \n",
    "#and 8*16*9(weights inside kernel)+8(bias) = 1160 parameters\n",
    "\n",
    "model.add(Convolution2D(8, (3, 3)))\n",
    "model.add(Activation('relu'))\n",
    "\n",
    "#Second maxpool layer again of size 2*2 thus resulting image is of size = 10/2,10/2,8 = 5,5,8\n",
    "\n",
    "model.add(MaxPool2D(pool_size=(2, 2)))\n",
    "\n",
    "#flatten the image to 5*5*8 = 200 (200,1) so that final pred could be done as final layer is dense it needs a vector \n",
    "#while convolutions needed a matrix\n",
    "\n",
    "model.add(Flatten())\n",
    "\n",
    "#To prevent overfitting drop out is added.\n",
    "\n",
    "model.add(Dropout(0.4))\n",
    "\n",
    "#final layer for prediction it is using softmax to calculate probability for the 10 classes. \n",
    "\n",
    "model.add(Dense(10))\n",
    "model.add(Activation('softmax'))\n",
    "\n",
    "#We use categorical_crossentropy as loss function and adam as the optimizer . \n",
    "\n",
    "model.summary()\n",
    "model.compile(loss='categorical_crossentropy', optimizer='adam', metrics=['accuracy'])"
   ]
  },
  {
   "cell_type": "code",
   "execution_count": 11,
   "metadata": {},
   "outputs": [
    {
     "name": "stdout",
     "output_type": "stream",
     "text": [
      "Train on 33600 samples, validate on 8400 samples\n",
      "Epoch 1/10\n",
      "33600/33600 [==============================] - 55s - loss: 0.7683 - acc: 0.7428 - val_loss: 0.1695 - val_acc: 0.9536\n",
      "Epoch 2/10\n",
      "33600/33600 [==============================] - 47s - loss: 0.2594 - acc: 0.9193 - val_loss: 0.1147 - val_acc: 0.9676\n",
      "Epoch 3/10\n",
      "33600/33600 [==============================] - 47s - loss: 0.1905 - acc: 0.9404 - val_loss: 0.0931 - val_acc: 0.9727\n",
      "Epoch 4/10\n",
      "33600/33600 [==============================] - 50s - loss: 0.1617 - acc: 0.9493 - val_loss: 0.0893 - val_acc: 0.9733\n",
      "Epoch 5/10\n",
      "33600/33600 [==============================] - 47s - loss: 0.1482 - acc: 0.9552 - val_loss: 0.0770 - val_acc: 0.9762\n",
      "Epoch 6/10\n",
      "33600/33600 [==============================] - 49s - loss: 0.1331 - acc: 0.9598 - val_loss: 0.0674 - val_acc: 0.9788\n",
      "Epoch 7/10\n",
      "33600/33600 [==============================] - 49s - loss: 0.1235 - acc: 0.9618 - val_loss: 0.0603 - val_acc: 0.9819\n",
      "Epoch 8/10\n",
      "33600/33600 [==============================] - 47s - loss: 0.1179 - acc: 0.9641 - val_loss: 0.0593 - val_acc: 0.9820\n",
      "Epoch 9/10\n",
      "33600/33600 [==============================] - 49s - loss: 0.1130 - acc: 0.9647 - val_loss: 0.0608 - val_acc: 0.9821\n",
      "Epoch 10/10\n",
      "33600/33600 [==============================] - 50s - loss: 0.1085 - acc: 0.9668 - val_loss: 0.0554 - val_acc: 0.9836\n"
     ]
    }
   ],
   "source": [
    "#training takes over 8 minutes on my cpu based mac having gpu would make the whole time faster .\n",
    "hist = model.fit(X_train, y_train,\n",
    "                epochs=10,\n",
    "                shuffle=True,\n",
    "                batch_size=100,\n",
    "                validation_data=(X_test, y_test))"
   ]
  },
  {
   "cell_type": "code",
   "execution_count": 15,
   "metadata": {},
   "outputs": [
    {
     "data": {
      "text/plain": [
       "[<matplotlib.lines.Line2D at 0x110cfdfd0>]"
      ]
     },
     "execution_count": 15,
     "metadata": {},
     "output_type": "execute_result"
    },
    {
     "data": {
      "image/png": "[encoded data removed]",
      "text/plain": [
       "<matplotlib.figure.Figure at 0x12021e790>"
      ]
     },
     "metadata": {},
     "output_type": "display_data"
    },
    {
     "data": {
      "image/png": "[encoded data removed]",
      "text/plain": [
       "<matplotlib.figure.Figure at 0x11feadc90>"
      ]
     },
     "metadata": {},
     "output_type": "display_data"
    }
   ],
   "source": [
    "hdata = hist.history\n",
    "#Plot of the validation loss (loss on testing set('g')) and loss on training set('r')\n",
    "plt.figure(0)\n",
    "plt.plot(hdata['loss'], 'r')\n",
    "plt.plot(hdata['val_loss'], 'g')\n",
    "\n",
    "plt.figure(1)\n",
    "plt.plot(hdata['acc'], 'r')\n",
    "plt.plot(hdata['val_acc'], 'g')"
   ]
  },
  {
   "cell_type": "code",
   "execution_count": 14,
   "metadata": {},
   "outputs": [
    {
     "data": {
      "text/plain": [
       "1152"
      ]
     },
     "execution_count": 14,
     "metadata": {},
     "output_type": "execute_result"
    }
   ],
   "source": []
  },
  {
   "cell_type": "code",
   "execution_count": null,
   "metadata": {
    "collapsed": true
   },
   "outputs": [],
   "source": []
  }
 ],
 "metadata": {
  "kernelspec": {
   "display_name": "Python 2",
   "language": "python",
   "name": "python2"
  },
  "language_info": {
   "codemirror_mode": {
    "name": "ipython",
    "version": 2
   },
   "file_extension": ".py",
   "mimetype": "text/x-python",
   "name": "python",
   "nbconvert_exporter": "python",
   "pygments_lexer": "ipython2",
   "version": "2.7.13"
  }
 },
 "nbformat": 4,
 "nbformat_minor": 2
}
