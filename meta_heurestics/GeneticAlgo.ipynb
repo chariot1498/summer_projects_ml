{
 "cells": [
  {
   "cell_type": "code",
   "execution_count": 1,
   "metadata": {
    "collapsed": true
   },
   "outputs": [],
   "source": [
    "import numpy as np\n",
    "from matplotlib import pyplot as plt\n",
    "%matplotlib inline\n",
    "import random"
   ]
  },
  {
   "cell_type": "code",
   "execution_count": 2,
   "metadata": {
    "collapsed": true
   },
   "outputs": [],
   "source": [
    "# Define some initial params\n",
    "# Dimensionality (No. of features)\n",
    "Dn = 20\n",
    "\n",
    "# Mutation probability (This is done to add more randomness usually kept small)\n",
    "M = 0.1\n",
    "\n",
    "# Population size (No. of points you hope that atleast one of them will get to global minima)\n",
    "NP = 200\n",
    "\n",
    "# No. of generations (Iterations)\n",
    "G = 100"
   ]
  },
  {
   "cell_type": "code",
   "execution_count": 4,
   "metadata": {},
   "outputs": [
    {
     "name": "stdout",
     "output_type": "stream",
     "text": [
      "[ 0.56760162  0.89980982  0.29421186  0.09884325  0.51126524  0.26882032\n",
      "  0.50041847  0.08404795  0.10173197  0.77664398  0.50422825  0.18651055\n",
      "  0.24022388  0.60483828  0.90823546  0.6325607   0.28949008  0.33650264\n",
      "  0.59346302  0.81483158]\n"
     ]
    }
   ],
   "source": [
    "#We will try to optimize function sum over all dimensions ((x+r)^2) it will be our f(x) Where r is a random dn length\n",
    "#vector\n",
    "r = np.random.random((Dn,))\n",
    "def f(x):\n",
    "    return ((x + r)**2).sum()\n",
    "\n",
    "print r"
   ]
  },
  {
   "cell_type": "code",
   "execution_count": 5,
   "metadata": {},
   "outputs": [
    {
     "name": "stdout",
     "output_type": "stream",
     "text": [
      "200\n"
     ]
    }
   ],
   "source": [
    "# We are going to randomly Generate population that is NP points each with dn features from a uniform sample from -10 \n",
    "# to 10.\n",
    "pop = []\n",
    "\n",
    "for ix in range(NP):\n",
    "    # generate a random vector\n",
    "    vec = np.random.uniform(-10, 10, (Dn,))\n",
    "    \n",
    "    # Add to population\n",
    "    pop.append(vec)\n",
    "#pop now has our initial random population\n",
    "print len(pop)"
   ]
  },
  {
   "cell_type": "code",
   "execution_count": 6,
   "metadata": {
    "collapsed": true
   },
   "outputs": [],
   "source": [
    "#These our two features crossover and mutate through these we introduce randomness in the child vectors. In crossover\n",
    "#We take half the features of one parent and half of the other and make two childs from it .\n",
    "#in mutate we try to introduce more randomness and is based on mutation in humans . We generate a random number btw\n",
    "#0 and 1 using np.random.random (R) if our mutation prob is more than this random number we replace that feature with\n",
    "#a random number generated from the uniform distribution between -5 and 5 .\n",
    "\n",
    "def crossover(parent_1, parent_2):\n",
    "    child_1 = np.zeros(parent_1.shape)\n",
    "    child_2 = np.zeros(parent_2.shape)\n",
    "    \n",
    "    dim = int(parent_1.shape[0] / 2.0)\n",
    "    \n",
    "    child_1[:dim] = parent_1[:dim]\n",
    "    child_1[dim:] = parent_2[dim:]\n",
    "    \n",
    "    child_2[:dim] = parent_2[:dim]\n",
    "    child_2[dim:] = parent_1[dim:]\n",
    "    \n",
    "    return child_1, child_2\n",
    "\n",
    "def mutate(x):\n",
    "    for ix in range(x.shape[0]):\n",
    "        # Generate a random number for probability\n",
    "        R = np.random.random()\n",
    "        \n",
    "        if R < M:\n",
    "            # Mutate random index \n",
    "            x[ix] = np.random.uniform(-5, 5)\n",
    "        else:\n",
    "            pass\n",
    "    return x"
   ]
  },
  {
   "cell_type": "code",
   "execution_count": 7,
   "metadata": {},
   "outputs": [
    {
     "name": "stdout",
     "output_type": "stream",
     "text": [
      "Generation: 0 | Best Value: 300.325257779\n",
      "Generation: 1 | Best Value: 261.228994791\n",
      "Generation: 2 | Best Value: 109.657314951\n",
      "Generation: 3 | Best Value: 90.5998324006\n",
      "Generation: 4 | Best Value: 74.5887254812\n",
      "Generation: 5 | Best Value: 54.6211697529\n",
      "Generation: 6 | Best Value: 37.4796894592\n",
      "Generation: 7 | Best Value: 33.0959047902\n",
      "Generation: 8 | Best Value: 30.5932017614\n",
      "Generation: 9 | Best Value: 23.5460150254\n",
      "Generation: 10 | Best Value: 18.4404559618\n",
      "Generation: 11 | Best Value: 18.4404559618\n",
      "Generation: 12 | Best Value: 15.3292833043\n",
      "Generation: 13 | Best Value: 12.8018870973\n",
      "Generation: 14 | Best Value: 10.8625587881\n",
      "Generation: 15 | Best Value: 10.4391553436\n",
      "Generation: 16 | Best Value: 10.4391553436\n",
      "Generation: 17 | Best Value: 9.04124962267\n",
      "Generation: 18 | Best Value: 8.6137546792\n",
      "Generation: 19 | Best Value: 7.87144847297\n",
      "Generation: 20 | Best Value: 7.57631493519\n",
      "Generation: 21 | Best Value: 7.57631493519\n",
      "Generation: 22 | Best Value: 7.14308527121\n",
      "Generation: 23 | Best Value: 6.89481697903\n",
      "Generation: 24 | Best Value: 6.34837685213\n",
      "Generation: 25 | Best Value: 4.83544747042\n",
      "Generation: 26 | Best Value: 4.83544747042\n",
      "Generation: 27 | Best Value: 4.5748584315\n",
      "Generation: 28 | Best Value: 3.73743573291\n",
      "Generation: 29 | Best Value: 3.73743573291\n",
      "Generation: 30 | Best Value: 3.69315785684\n",
      "Generation: 31 | Best Value: 3.51259103113\n",
      "Generation: 32 | Best Value: 3.3821895069\n",
      "Generation: 33 | Best Value: 3.07515425656\n",
      "Generation: 34 | Best Value: 2.62993033547\n",
      "Generation: 35 | Best Value: 1.79660594798\n",
      "Generation: 36 | Best Value: 1.79660594798\n",
      "Generation: 37 | Best Value: 1.79660594798\n",
      "Generation: 38 | Best Value: 1.79660594798\n",
      "Generation: 39 | Best Value: 1.79660594798\n",
      "Generation: 40 | Best Value: 1.79660594798\n",
      "Generation: 41 | Best Value: 1.7822907633\n",
      "Generation: 42 | Best Value: 1.7822907633\n",
      "Generation: 43 | Best Value: 1.7193136708\n",
      "Generation: 44 | Best Value: 1.67879907688\n",
      "Generation: 45 | Best Value: 1.67879907688\n",
      "Generation: 46 | Best Value: 1.65521271478\n",
      "Generation: 47 | Best Value: 1.38248181594\n",
      "Generation: 48 | Best Value: 1.38248181594\n",
      "Generation: 49 | Best Value: 1.38248181594\n",
      "Generation: 50 | Best Value: 1.38248181594\n",
      "Generation: 51 | Best Value: 1.31660878898\n",
      "Generation: 52 | Best Value: 1.30814818022\n",
      "Generation: 53 | Best Value: 1.24725972078\n",
      "Generation: 54 | Best Value: 1.24725972078\n",
      "Generation: 55 | Best Value: 1.20925455809\n",
      "Generation: 56 | Best Value: 1.20925455809\n",
      "Generation: 57 | Best Value: 1.14338153114\n",
      "Generation: 58 | Best Value: 1.11496968957\n",
      "Generation: 59 | Best Value: 0.971595840855\n",
      "Generation: 60 | Best Value: 0.971595840855\n",
      "Generation: 61 | Best Value: 0.912807084891\n",
      "Generation: 62 | Best Value: 0.827906474871\n",
      "Generation: 63 | Best Value: 0.827906474871\n",
      "Generation: 64 | Best Value: 0.82431646749\n",
      "Generation: 65 | Best Value: 0.710291298076\n",
      "Generation: 66 | Best Value: 0.597332028627\n",
      "Generation: 67 | Best Value: 0.597332028627\n",
      "Generation: 68 | Best Value: 0.597332028627\n",
      "Generation: 69 | Best Value: 0.597332028627\n",
      "Generation: 70 | Best Value: 0.597332028627\n",
      "Generation: 71 | Best Value: 0.58925785803\n",
      "Generation: 72 | Best Value: 0.587332327283\n",
      "Generation: 73 | Best Value: 0.587332327283\n",
      "Generation: 74 | Best Value: 0.566402712798\n",
      "Generation: 75 | Best Value: 0.566402712798\n",
      "Generation: 76 | Best Value: 0.566402712798\n",
      "Generation: 77 | Best Value: 0.412856241298\n",
      "Generation: 78 | Best Value: 0.412856241298\n",
      "Generation: 79 | Best Value: 0.370571891204\n",
      "Generation: 80 | Best Value: 0.34728502017\n",
      "Generation: 81 | Best Value: 0.341361638919\n",
      "Generation: 82 | Best Value: 0.341361638919\n",
      "Generation: 83 | Best Value: 0.325824685794\n",
      "Generation: 84 | Best Value: 0.325824685794\n",
      "Generation: 85 | Best Value: 0.325824685794\n",
      "Generation: 86 | Best Value: 0.274020471806\n",
      "Generation: 87 | Best Value: 0.274020471806\n",
      "Generation: 88 | Best Value: 0.244349794829\n",
      "Generation: 89 | Best Value: 0.222898915391\n",
      "Generation: 90 | Best Value: 0.222898915391\n",
      "Generation: 91 | Best Value: 0.222898915391\n",
      "Generation: 92 | Best Value: 0.222898915391\n",
      "Generation: 93 | Best Value: 0.222898915391\n",
      "Generation: 94 | Best Value: 0.20418621772\n",
      "Generation: 95 | Best Value: 0.191367120341\n",
      "Generation: 96 | Best Value: 0.191367120341\n",
      "Generation: 97 | Best Value: 0.191367120341\n",
      "Generation: 98 | Best Value: 0.191367120341\n",
      "Generation: 99 | Best Value: 0.191367120341\n"
     ]
    }
   ],
   "source": [
    "#This is the main genetic Algo loop in this we iterate for number of generations in each iteration we first sort our \n",
    "#parents in pop ascendingly according to their f(x) (also called fitness score). From this sorted list of vectors we\n",
    "#select 2 vectors from the good pop by slicing the list (I have taken 25 percent of the best pop) . These 2 parent vectors\n",
    "#are now allowed to cross over and children are passed into the mutation function then the two children are appended \n",
    "#to the temp vector this process is repeated till we have temp = size of pop.\n",
    "#the pop and temp(children) are combined to form comb vector which is then sorted and the best np is taken as new \n",
    "#population . At start of each new generation the least f(x) i.e. the first value in pop vector as it is sorted is taken\n",
    "#and appended to loss vector so that we can visualize it .\n",
    "loss = []\n",
    "\n",
    "# Main Genetic Algo loop\n",
    "for gx in range(G):\n",
    "    pop = sorted(pop, key=lambda z: f(z))\n",
    "    print \"Generation: {0} | Best Value: {1}\".format(gx, f(pop[0]))\n",
    "    loss.append(f(pop[0]))\n",
    "    \n",
    "    # create a temp population\n",
    "    temp = []\n",
    "    \n",
    "    while not len(temp) == NP:\n",
    "        # Select 2 parents from good section of population\n",
    "        p1, p2 = random.sample(pop[:int(NP/4.0)], 2)\n",
    "        \n",
    "        # Apply crossover\n",
    "        c1, c2 = crossover(p1, p2)\n",
    "        \n",
    "        # mutate\n",
    "        c1 = mutate(c1)\n",
    "        c2 = mutate(c2)\n",
    "        \n",
    "        temp.append(c1)\n",
    "        temp.append(c2)\n",
    "    \n",
    "    # create a combined population\n",
    "    comb = temp + pop\n",
    "    \n",
    "    # survival of the fittest\n",
    "    pop = sorted(comb, key=lambda z: f(z))[:NP]"
   ]
  },
  {
   "cell_type": "code",
   "execution_count": 9,
   "metadata": {},
   "outputs": [
    {
     "data": {
      "text/plain": [
       "[<matplotlib.lines.Line2D at 0x1039e8c50>]"
      ]
     },
     "execution_count": 9,
     "metadata": {},
     "output_type": "execute_result"
    },
    {
     "data": {
      "image/png": "[encoded data removed]",
      "text/plain": [
       "<matplotlib.figure.Figure at 0x1038ed350>"
      ]
     },
     "metadata": {},
     "output_type": "display_data"
    }
   ],
   "source": [
    "#We can see that we have minimized loss from 300.325 to 0.1913\n",
    "plt.plot(loss)"
   ]
  },
  {
   "cell_type": "code",
   "execution_count": null,
   "metadata": {
    "collapsed": true
   },
   "outputs": [],
   "source": []
  }
 ],
 "metadata": {
  "kernelspec": {
   "display_name": "Python 2",
   "language": "python",
   "name": "python2"
  },
  "language_info": {
   "codemirror_mode": {
    "name": "ipython",
    "version": 2
   },
   "file_extension": ".py",
   "mimetype": "text/x-python",
   "name": "python",
   "nbconvert_exporter": "python",
   "pygments_lexer": "ipython2",
   "version": "2.7.13"
  }
 },
 "nbformat": 4,
 "nbformat_minor": 2
}
