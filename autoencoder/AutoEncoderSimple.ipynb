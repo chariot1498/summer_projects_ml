{
 "cells": [
  {
   "cell_type": "code",
   "execution_count": 12,
   "metadata": {},
   "outputs": [],
   "source": [
    "import numpy as np\n",
    "from matplotlib import pyplot as plt\n",
    "%matplotlib inline\n",
    "import seaborn as sns\n",
    "import pandas as pd\n",
    "import keras\n",
    "#Instead of using sequential model we use model in which we have to build the network on our own we only get layers from dense.\n",
    "from keras.layers import Dense, Activation, Input\n",
    "from keras.models import Model"
   ]
  },
  {
   "cell_type": "code",
   "execution_count": 13,
   "metadata": {},
   "outputs": [
    {
     "name": "stdout",
     "output_type": "stream",
     "text": [
      "(10000, 784)\n"
     ]
    }
   ],
   "source": [
    "#Converting MNIST dataset to a pandas dataframe\n",
    "ds = pd.read_csv('train.csv')\n",
    "#Only first 10000 examples are being taken due to system limitations since range of pixels is till 255 we divide by 255 to get range between 0 and 1.\n",
    "data = ds.values[:10000, 1:]/255.0\n",
    "print data.shape"
   ]
  },
  {
   "cell_type": "code",
   "execution_count": 3,
   "metadata": {
    "scrolled": false
   },
   "outputs": [
    {
     "name": "stdout",
     "output_type": "stream",
     "text": [
      "_________________________________________________________________\n",
      "Layer (type)                 Output Shape              Param #   \n",
      "=================================================================\n",
      "input_1 (InputLayer)         (None, 784)               0         \n",
      "_________________________________________________________________\n",
      "dense_1 (Dense)              (None, 100)               78500     \n",
      "_________________________________________________________________\n",
      "activation_1 (Activation)    (None, 100)               0         \n",
      "_________________________________________________________________\n",
      "dense_2 (Dense)              (None, 784)               79184     \n",
      "_________________________________________________________________\n",
      "activation_2 (Activation)    (None, 784)               0         \n",
      "=================================================================\n",
      "Total params: 157,684\n",
      "Trainable params: 157,684\n",
      "Non-trainable params: 0\n",
      "_________________________________________________________________\n",
      "_________________________________________________________________\n",
      "Layer (type)                 Output Shape              Param #   \n",
      "=================================================================\n",
      "input_1 (InputLayer)         (None, 784)               0         \n",
      "_________________________________________________________________\n",
      "dense_1 (Dense)              (None, 100)               78500     \n",
      "_________________________________________________________________\n",
      "activation_1 (Activation)    (None, 100)               0         \n",
      "=================================================================\n",
      "Total params: 78,500\n",
      "Trainable params: 78,500\n",
      "Non-trainable params: 0\n",
      "_________________________________________________________________\n",
      "_________________________________________________________________\n",
      "Layer (type)                 Output Shape              Param #   \n",
      "=================================================================\n",
      "input_2 (InputLayer)         (None, 100)               0         \n",
      "_________________________________________________________________\n",
      "dense_2 (Dense)              (None, 784)               79184     \n",
      "_________________________________________________________________\n",
      "activation_2 (Activation)    (None, 784)               0         \n",
      "=================================================================\n",
      "Total params: 79,184\n",
      "Trainable params: 79,184\n",
      "Non-trainable params: 0\n",
      "_________________________________________________________________\n"
     ]
    }
   ],
   "source": [
    "# Define the layers there is one hidden layer of 100 neurons we use sigmoid activation instead of softmax function in the last layer as softmax gives us probabilities that sum to one from all the outputs of neurons but we need each output to be between 0 and 1 sum of all of them can't be 1.Thus we need sigmoid as its output is btw 0 and 1 . Tanh is not a good choice either as its range is btw -1 and 1.        \n",
    "inp = Input(shape=(784,))\n",
    "h1 = Dense(100)\n",
    "a1 = Activation('sigmoid')\n",
    "y = Dense(784,)\n",
    "ya = Activation('sigmoid')\n",
    "\n",
    "# connect layers for autoencoder we need to do this as we have model instead of sequential.\n",
    "out = ya(y(a1(h1(inp))))\n",
    "\n",
    "# Create autoencoder model we use mean square error loss function and adam optimizer categoriacal_crossEntropy \n",
    "model = Model(inputs=[inp], outputs=[out])\n",
    "model.summary()\n",
    "model.compile(loss='mse', optimizer='adam', metrics=['accuracy'])\n",
    "\n",
    "# Build encoder model\n",
    "encoder = Model(inputs=[inp], outputs=[a1(h1(inp))])\n",
    "encoder.summary()\n",
    "\n",
    "# Build decoder model\n",
    "dec_inp = Input(shape=(100,))\n",
    "dec_out = ya(y(dec_inp))\n",
    "decoder = Model(inputs=[dec_inp], outputs=[dec_out])\n",
    "decoder.summary()"
   ]
  },
  {
   "cell_type": "code",
   "execution_count": 4,
   "metadata": {},
   "outputs": [
    {
     "name": "stdout",
     "output_type": "stream",
     "text": [
      "Train on 4500 samples, validate on 500 samples\n",
      "Epoch 1/50\n",
      "4500/4500 [==============================] - 0s - loss: 0.1138 - acc: 0.0089 - val_loss: 0.0691 - val_acc: 0.0160\n",
      "Epoch 2/50\n",
      "4500/4500 [==============================] - 0s - loss: 0.0692 - acc: 0.0093 - val_loss: 0.0676 - val_acc: 0.0100\n",
      "Epoch 3/50\n",
      "4500/4500 [==============================] - 0s - loss: 0.0681 - acc: 0.0100 - val_loss: 0.0665 - val_acc: 0.0140\n",
      "Epoch 4/50\n",
      "4500/4500 [==============================] - 0s - loss: 0.0665 - acc: 0.0144 - val_loss: 0.0644 - val_acc: 0.0120\n",
      "Epoch 5/50\n",
      "4500/4500 [==============================] - 0s - loss: 0.0639 - acc: 0.0160 - val_loss: 0.0616 - val_acc: 0.0080\n",
      "Epoch 6/50\n",
      "4500/4500 [==============================] - 0s - loss: 0.0606 - acc: 0.0180 - val_loss: 0.0583 - val_acc: 0.0080\n",
      "Epoch 7/50\n",
      "4500/4500 [==============================] - 0s - loss: 0.0572 - acc: 0.0198 - val_loss: 0.0551 - val_acc: 0.0160\n",
      "Epoch 8/50\n",
      "4500/4500 [==============================] - 0s - loss: 0.0540 - acc: 0.0153 - val_loss: 0.0522 - val_acc: 0.0180\n",
      "Epoch 9/50\n",
      "4500/4500 [==============================] - 0s - loss: 0.0512 - acc: 0.0180 - val_loss: 0.0497 - val_acc: 0.0060\n",
      "Epoch 10/50\n",
      "4500/4500 [==============================] - 0s - loss: 0.0488 - acc: 0.0118 - val_loss: 0.0475 - val_acc: 0.0160\n",
      "Epoch 11/50\n",
      "4500/4500 [==============================] - 0s - loss: 0.0468 - acc: 0.0169 - val_loss: 0.0457 - val_acc: 0.0140\n",
      "Epoch 12/50\n",
      "4500/4500 [==============================] - 0s - loss: 0.0449 - acc: 0.0176 - val_loss: 0.0439 - val_acc: 0.0160\n",
      "Epoch 13/50\n",
      "4500/4500 [==============================] - 0s - loss: 0.0432 - acc: 0.0167 - val_loss: 0.0424 - val_acc: 0.0140\n",
      "Epoch 14/50\n",
      "4500/4500 [==============================] - 0s - loss: 0.0417 - acc: 0.0149 - val_loss: 0.0408 - val_acc: 0.0100\n",
      "Epoch 15/50\n",
      "4500/4500 [==============================] - 0s - loss: 0.0402 - acc: 0.0144 - val_loss: 0.0395 - val_acc: 0.0120\n",
      "Epoch 16/50\n",
      "4500/4500 [==============================] - 0s - loss: 0.0389 - acc: 0.0140 - val_loss: 0.0382 - val_acc: 0.0120\n",
      "Epoch 17/50\n",
      "4500/4500 [==============================] - 0s - loss: 0.0376 - acc: 0.0122 - val_loss: 0.0370 - val_acc: 0.0100\n",
      "Epoch 18/50\n",
      "4500/4500 [==============================] - 0s - loss: 0.0364 - acc: 0.0100 - val_loss: 0.0358 - val_acc: 0.0120\n",
      "Epoch 19/50\n",
      "4500/4500 [==============================] - 0s - loss: 0.0353 - acc: 0.0098 - val_loss: 0.0348 - val_acc: 0.0100\n",
      "Epoch 20/50\n",
      "4500/4500 [==============================] - 0s - loss: 0.0342 - acc: 0.0089 - val_loss: 0.0338 - val_acc: 0.0080\n",
      "Epoch 21/50\n",
      "4500/4500 [==============================] - 0s - loss: 0.0333 - acc: 0.0098 - val_loss: 0.0329 - val_acc: 0.0120\n",
      "Epoch 22/50\n",
      "4500/4500 [==============================] - 0s - loss: 0.0323 - acc: 0.0111 - val_loss: 0.0320 - val_acc: 0.0100\n",
      "Epoch 23/50\n",
      "4500/4500 [==============================] - 0s - loss: 0.0314 - acc: 0.0093 - val_loss: 0.0311 - val_acc: 0.0140\n",
      "Epoch 24/50\n",
      "4500/4500 [==============================] - 0s - loss: 0.0305 - acc: 0.0093 - val_loss: 0.0303 - val_acc: 0.0120\n",
      "Epoch 25/50\n",
      "4500/4500 [==============================] - 0s - loss: 0.0297 - acc: 0.0100 - val_loss: 0.0295 - val_acc: 0.0140\n",
      "Epoch 26/50\n",
      "4500/4500 [==============================] - 0s - loss: 0.0289 - acc: 0.0102 - val_loss: 0.0288 - val_acc: 0.0100\n",
      "Epoch 27/50\n",
      "4500/4500 [==============================] - 0s - loss: 0.0282 - acc: 0.0102 - val_loss: 0.0281 - val_acc: 0.0120\n",
      "Epoch 28/50\n",
      "4500/4500 [==============================] - 0s - loss: 0.0274 - acc: 0.0109 - val_loss: 0.0274 - val_acc: 0.0080\n",
      "Epoch 29/50\n",
      "4500/4500 [==============================] - 0s - loss: 0.0267 - acc: 0.0111 - val_loss: 0.0268 - val_acc: 0.0100\n",
      "Epoch 30/50\n",
      "4500/4500 [==============================] - 0s - loss: 0.0261 - acc: 0.0116 - val_loss: 0.0262 - val_acc: 0.0080\n",
      "Epoch 31/50\n",
      "4500/4500 [==============================] - 0s - loss: 0.0254 - acc: 0.0109 - val_loss: 0.0256 - val_acc: 0.0140\n",
      "Epoch 32/50\n",
      "4500/4500 [==============================] - 0s - loss: 0.0248 - acc: 0.0113 - val_loss: 0.0250 - val_acc: 0.0100\n",
      "Epoch 33/50\n",
      "4500/4500 [==============================] - 0s - loss: 0.0242 - acc: 0.0096 - val_loss: 0.0245 - val_acc: 0.0100\n",
      "Epoch 34/50\n",
      "4500/4500 [==============================] - 0s - loss: 0.0236 - acc: 0.0093 - val_loss: 0.0239 - val_acc: 0.0100\n",
      "Epoch 35/50\n",
      "4500/4500 [==============================] - 0s - loss: 0.0231 - acc: 0.0096 - val_loss: 0.0234 - val_acc: 0.0100\n",
      "Epoch 36/50\n",
      "4500/4500 [==============================] - 0s - loss: 0.0226 - acc: 0.0102 - val_loss: 0.0230 - val_acc: 0.0100\n",
      "Epoch 37/50\n",
      "4500/4500 [==============================] - 0s - loss: 0.0221 - acc: 0.0100 - val_loss: 0.0225 - val_acc: 0.0120\n",
      "Epoch 38/50\n",
      "4500/4500 [==============================] - 0s - loss: 0.0216 - acc: 0.0093 - val_loss: 0.0221 - val_acc: 0.0140\n",
      "Epoch 39/50\n",
      "4500/4500 [==============================] - 0s - loss: 0.0211 - acc: 0.0100 - val_loss: 0.0216 - val_acc: 0.0120\n",
      "Epoch 40/50\n",
      "4500/4500 [==============================] - 0s - loss: 0.0207 - acc: 0.0113 - val_loss: 0.0212 - val_acc: 0.0100\n",
      "Epoch 41/50\n",
      "4500/4500 [==============================] - 0s - loss: 0.0202 - acc: 0.0100 - val_loss: 0.0208 - val_acc: 0.0140\n",
      "Epoch 42/50\n",
      "4500/4500 [==============================] - 0s - loss: 0.0198 - acc: 0.0098 - val_loss: 0.0205 - val_acc: 0.0120\n",
      "Epoch 43/50\n",
      "4500/4500 [==============================] - 0s - loss: 0.0194 - acc: 0.0091 - val_loss: 0.0201 - val_acc: 0.0120\n",
      "Epoch 44/50\n",
      "4500/4500 [==============================] - 0s - loss: 0.0191 - acc: 0.0100 - val_loss: 0.0198 - val_acc: 0.0120\n",
      "Epoch 45/50\n",
      "4500/4500 [==============================] - 0s - loss: 0.0187 - acc: 0.0093 - val_loss: 0.0194 - val_acc: 0.0080\n",
      "Epoch 46/50\n",
      "4500/4500 [==============================] - 0s - loss: 0.0183 - acc: 0.0098 - val_loss: 0.0191 - val_acc: 0.0080\n",
      "Epoch 47/50\n",
      "4500/4500 [==============================] - 0s - loss: 0.0180 - acc: 0.0102 - val_loss: 0.0188 - val_acc: 0.0080\n",
      "Epoch 48/50\n",
      "4500/4500 [==============================] - 0s - loss: 0.0177 - acc: 0.0104 - val_loss: 0.0185 - val_acc: 0.0100\n",
      "Epoch 49/50\n",
      "4500/4500 [==============================] - 0s - loss: 0.0173 - acc: 0.0098 - val_loss: 0.0182 - val_acc: 0.0100\n",
      "Epoch 50/50\n",
      "4500/4500 [==============================] - 0s - loss: 0.0170 - acc: 0.0109 - val_loss: 0.0179 - val_acc: 0.0080\n"
     ]
    }
   ],
   "source": [
    "hist = model.fit(data[:4500], data[:4500],\n",
    "                epochs=50,\n",
    "                shuffle=True,\n",
    "                batch_size=100,\n",
    "                validation_data=(data[4500:], data[4500:]))"
   ]
  },
  {
   "cell_type": "code",
   "execution_count": 5,
   "metadata": {},
   "outputs": [
    {
     "name": "stdout",
     "output_type": "stream",
     "text": [
      "(100, 100)\n"
     ]
    }
   ],
   "source": [
    "ex = encoder.predict(data[:100])\n",
    "print ex.shape"
   ]
  },
  {
   "cell_type": "code",
   "execution_count": 6,
   "metadata": {},
   "outputs": [
    {
     "name": "stdout",
     "output_type": "stream",
     "text": [
      "(100, 784)\n"
     ]
    }
   ],
   "source": [
    "dx = decoder.predict(ex)\n",
    "print dx.shape"
   ]
  },
  {
   "cell_type": "code",
   "execution_count": 7,
   "metadata": {},
   "outputs": [
    {
     "data": {
      "text/plain": [
       "<matplotlib.image.AxesImage at 0x11e410c90>"
      ]
     },
     "execution_count": 7,
     "metadata": {},
     "output_type": "execute_result"
    },
    {
     "data": {
      "image/png": "[encoded data removed]",
      "text/plain": [
       "<matplotlib.figure.Figure at 0x1103e7cd0>"
      ]
     },
     "metadata": {},
     "output_type": "display_data"
    },
    {
     "data": {
      "image/png": "[encoded data removed]",
      "text/plain": [
       "<matplotlib.figure.Figure at 0x11e400f50>"
      ]
     },
     "metadata": {},
     "output_type": "display_data"
    }
   ],
   "source": [
    "#We are now going to predict how the image looks after recreation(figure 1) varsus the original one(figure 0)\n",
    "n = np.random.choice(range(100))\n",
    "plt.figure(0)\n",
    "plt.grid('off')\n",
    "plt.imshow(data[n].reshape((28, 28)), cmap='gray')\n",
    "\n",
    "plt.figure(1)\n",
    "plt.grid('off')\n",
    "plt.imshow(dx[n].reshape((28, 28)), cmap='gray')"
   ]
  },
  {
   "cell_type": "code",
   "execution_count": 14,
   "metadata": {},
   "outputs": [
    {
     "name": "stdout",
     "output_type": "stream",
     "text": [
      "_________________________________________________________________\n",
      "Layer (type)                 Output Shape              Param #   \n",
      "=================================================================\n",
      "input_3 (InputLayer)         (None, 784)               0         \n",
      "_________________________________________________________________\n",
      "dense_3 (Dense)              (None, 250)               196250    \n",
      "_________________________________________________________________\n",
      "activation_3 (Activation)    (None, 250)               0         \n",
      "_________________________________________________________________\n",
      "dense_4 (Dense)              (None, 100)               25100     \n",
      "_________________________________________________________________\n",
      "activation_4 (Activation)    (None, 100)               0         \n",
      "_________________________________________________________________\n",
      "dense_5 (Dense)              (None, 250)               25250     \n",
      "_________________________________________________________________\n",
      "activation_5 (Activation)    (None, 250)               0         \n",
      "_________________________________________________________________\n",
      "dense_6 (Dense)              (None, 784)               196784    \n",
      "_________________________________________________________________\n",
      "activation_6 (Activation)    (None, 784)               0         \n",
      "=================================================================\n",
      "Total params: 443,384\n",
      "Trainable params: 443,384\n",
      "Non-trainable params: 0\n",
      "_________________________________________________________________\n",
      "_________________________________________________________________\n",
      "Layer (type)                 Output Shape              Param #   \n",
      "=================================================================\n",
      "input_3 (InputLayer)         (None, 784)               0         \n",
      "_________________________________________________________________\n",
      "dense_3 (Dense)              (None, 250)               196250    \n",
      "_________________________________________________________________\n",
      "activation_3 (Activation)    (None, 250)               0         \n",
      "_________________________________________________________________\n",
      "dense_4 (Dense)              (None, 100)               25100     \n",
      "_________________________________________________________________\n",
      "activation_4 (Activation)    (None, 100)               0         \n",
      "=================================================================\n",
      "Total params: 221,350\n",
      "Trainable params: 221,350\n",
      "Non-trainable params: 0\n",
      "_________________________________________________________________\n",
      "_________________________________________________________________\n",
      "Layer (type)                 Output Shape              Param #   \n",
      "=================================================================\n",
      "input_4 (InputLayer)         (None, 100)               0         \n",
      "_________________________________________________________________\n",
      "dense_5 (Dense)              (None, 250)               25250     \n",
      "_________________________________________________________________\n",
      "activation_5 (Activation)    (None, 250)               0         \n",
      "_________________________________________________________________\n",
      "dense_6 (Dense)              (None, 784)               196784    \n",
      "_________________________________________________________________\n",
      "activation_6 (Activation)    (None, 784)               0         \n",
      "=================================================================\n",
      "Total params: 222,034\n",
      "Trainable params: 222,034\n",
      "Non-trainable params: 0\n",
      "_________________________________________________________________\n"
     ]
    }
   ],
   "source": [
    "# Define the layers there is 3 hidden layer of 100 neurons we use sigmoid activation instead of softmax function in the last layer as softmax gives us probabilities that sum to one from all the outputs of neurons but we need each output to be between 0 and 1 sum of all of them can't be 1.Thus we need sigmoid as its output is btw 0 and 1 . Tanh is not a good choice either as its range is btw -1 and 1.        \n",
    "#Using multiple layers help in smooth transition making output better we can add more layers but that would come at the cost of computation cost\n",
    "inp = Input(shape=(784,))\n",
    "h1 = Dense(250)\n",
    "a1 = Activation('sigmoid')\n",
    "h2 = Dense(100)\n",
    "a2 = Activation('sigmoid')\n",
    "h3 = Dense(250)\n",
    "a3 = Activation('sigmoid')\n",
    "y = Dense(784,)\n",
    "ya = Activation('sigmoid')\n",
    "\n",
    "# connect layers for autoencoder we need to do this as we have model instead of sequential.\n",
    "out = ya(y(a3(h3(a2(h2(a1(h1(inp))))))))\n",
    "\n",
    "# Create autoencoder model we use mean square error loss function and adam optimizer categoriacal_crossEntropy \n",
    "model = Model(inputs=[inp], outputs=[out])\n",
    "model.summary()\n",
    "model.compile(loss='mse', optimizer='adam', metrics=['accuracy'])\n",
    "\n",
    "# Build encoder model\n",
    "encoder = Model(inputs=[inp], outputs=[a2(h2(a1(h1(inp))))])\n",
    "encoder.summary()\n",
    "\n",
    "# Build decoder model\n",
    "dec_inp = Input(shape=(100,))\n",
    "dec_out = ya(y(a3(h3(dec_inp))))\n",
    "decoder = Model(inputs=[dec_inp], outputs=[dec_out])\n",
    "decoder.summary()"
   ]
  },
  {
   "cell_type": "code",
   "execution_count": 15,
   "metadata": {},
   "outputs": [
    {
     "name": "stdout",
     "output_type": "stream",
     "text": [
      "Train on 7500 samples, validate on 2500 samples\n",
      "Epoch 1/50\n",
      "7500/7500 [==============================] - 1s - loss: 0.0824 - acc: 0.0089 - val_loss: 0.0680 - val_acc: 0.0092\n",
      "Epoch 2/50\n",
      "7500/7500 [==============================] - 1s - loss: 0.0673 - acc: 0.0104 - val_loss: 0.0664 - val_acc: 0.0072\n",
      "Epoch 3/50\n",
      "7500/7500 [==============================] - 1s - loss: 0.0639 - acc: 0.0099 - val_loss: 0.0623 - val_acc: 0.0164\n",
      "Epoch 4/50\n",
      "7500/7500 [==============================] - 1s - loss: 0.0611 - acc: 0.0141 - val_loss: 0.0597 - val_acc: 0.0056\n",
      "Epoch 5/50\n",
      "7500/7500 [==============================] - 1s - loss: 0.0560 - acc: 0.0116 - val_loss: 0.0531 - val_acc: 0.0096\n",
      "Epoch 6/50\n",
      "7500/7500 [==============================] - 1s - loss: 0.0520 - acc: 0.0121 - val_loss: 0.0509 - val_acc: 0.0060\n",
      "Epoch 7/50\n",
      "7500/7500 [==============================] - 1s - loss: 0.0490 - acc: 0.0101 - val_loss: 0.0467 - val_acc: 0.0096\n",
      "Epoch 8/50\n",
      "7500/7500 [==============================] - 2s - loss: 0.0450 - acc: 0.0071 - val_loss: 0.0440 - val_acc: 0.0052\n",
      "Epoch 9/50\n",
      "7500/7500 [==============================] - 2s - loss: 0.0427 - acc: 0.0068 - val_loss: 0.0416 - val_acc: 0.0040\n",
      "Epoch 10/50\n",
      "7500/7500 [==============================] - 1s - loss: 0.0403 - acc: 0.0076 - val_loss: 0.0397 - val_acc: 0.0096\n",
      "Epoch 11/50\n",
      "7500/7500 [==============================] - 1s - loss: 0.0387 - acc: 0.0084 - val_loss: 0.0383 - val_acc: 0.0072\n",
      "Epoch 12/50\n",
      "7500/7500 [==============================] - 1s - loss: 0.0370 - acc: 0.0084 - val_loss: 0.0362 - val_acc: 0.0100\n",
      "Epoch 13/50\n",
      "7500/7500 [==============================] - 1s - loss: 0.0351 - acc: 0.0104 - val_loss: 0.0346 - val_acc: 0.0076\n",
      "Epoch 14/50\n",
      "7500/7500 [==============================] - 1s - loss: 0.0337 - acc: 0.0124 - val_loss: 0.0333 - val_acc: 0.0096\n",
      "Epoch 15/50\n",
      "7500/7500 [==============================] - 1s - loss: 0.0324 - acc: 0.0148 - val_loss: 0.0321 - val_acc: 0.01400.01\n",
      "Epoch 16/50\n",
      "7500/7500 [==============================] - 1s - loss: 0.0313 - acc: 0.0137 - val_loss: 0.0311 - val_acc: 0.0136\n",
      "Epoch 17/50\n",
      "7500/7500 [==============================] - 1s - loss: 0.0302 - acc: 0.0129 - val_loss: 0.0300 - val_acc: 0.0076\n",
      "Epoch 18/50\n",
      "7500/7500 [==============================] - 1s - loss: 0.0292 - acc: 0.0111 - val_loss: 0.0290 - val_acc: 0.0124\n",
      "Epoch 19/50\n",
      "7500/7500 [==============================] - 1s - loss: 0.0283 - acc: 0.0124 - val_loss: 0.0283 - val_acc: 0.0096\n",
      "Epoch 20/50\n",
      "7500/7500 [==============================] - 1s - loss: 0.0275 - acc: 0.0132 - val_loss: 0.0276 - val_acc: 0.0124\n",
      "Epoch 21/50\n",
      "7500/7500 [==============================] - 1s - loss: 0.0268 - acc: 0.0117 - val_loss: 0.0270 - val_acc: 0.0116\n",
      "Epoch 22/50\n",
      "7500/7500 [==============================] - 1s - loss: 0.0261 - acc: 0.0112 - val_loss: 0.0264 - val_acc: 0.0128\n",
      "Epoch 23/50\n",
      "7500/7500 [==============================] - 1s - loss: 0.0254 - acc: 0.0113 - val_loss: 0.0256 - val_acc: 0.0096\n",
      "Epoch 24/50\n",
      "7500/7500 [==============================] - 1s - loss: 0.0246 - acc: 0.0127 - val_loss: 0.0247 - val_acc: 0.0104\n",
      "Epoch 25/50\n",
      "7500/7500 [==============================] - 1s - loss: 0.0237 - acc: 0.0120 - val_loss: 0.0240 - val_acc: 0.0112\n",
      "Epoch 26/50\n",
      "7500/7500 [==============================] - 1s - loss: 0.0230 - acc: 0.0136 - val_loss: 0.0233 - val_acc: 0.0112\n",
      "Epoch 27/50\n",
      "7500/7500 [==============================] - 1s - loss: 0.0224 - acc: 0.0115 - val_loss: 0.0228 - val_acc: 0.0140\n",
      "Epoch 28/50\n",
      "7500/7500 [==============================] - 1s - loss: 0.0219 - acc: 0.0115 - val_loss: 0.0223 - val_acc: 0.0108\n",
      "Epoch 29/50\n",
      "7500/7500 [==============================] - 1s - loss: 0.0214 - acc: 0.0116 - val_loss: 0.0218 - val_acc: 0.0108\n",
      "Epoch 30/50\n",
      "7500/7500 [==============================] - 1s - loss: 0.0209 - acc: 0.0107 - val_loss: 0.0214 - val_acc: 0.0080\n",
      "Epoch 31/50\n",
      "7500/7500 [==============================] - 1s - loss: 0.0204 - acc: 0.0105 - val_loss: 0.0209 - val_acc: 0.0140\n",
      "Epoch 32/50\n",
      "7500/7500 [==============================] - 1s - loss: 0.0200 - acc: 0.0108 - val_loss: 0.0204 - val_acc: 0.0124\n",
      "Epoch 33/50\n",
      "7500/7500 [==============================] - 1s - loss: 0.0196 - acc: 0.0099 - val_loss: 0.0200 - val_acc: 0.0112\n",
      "Epoch 34/50\n",
      "7500/7500 [==============================] - 1s - loss: 0.0192 - acc: 0.0105 - val_loss: 0.0196 - val_acc: 0.0084\n",
      "Epoch 35/50\n",
      "7500/7500 [==============================] - 1s - loss: 0.0188 - acc: 0.0108 - val_loss: 0.0193 - val_acc: 0.0148\n",
      "Epoch 36/50\n",
      "7500/7500 [==============================] - 1s - loss: 0.0184 - acc: 0.0095 - val_loss: 0.0189 - val_acc: 0.0096\n",
      "Epoch 37/50\n",
      "7500/7500 [==============================] - 1s - loss: 0.0180 - acc: 0.0107 - val_loss: 0.0186 - val_acc: 0.0076\n",
      "Epoch 38/50\n",
      "7500/7500 [==============================] - 1s - loss: 0.0177 - acc: 0.0109 - val_loss: 0.0183 - val_acc: 0.0084\n",
      "Epoch 39/50\n",
      "7500/7500 [==============================] - 1s - loss: 0.0174 - acc: 0.0119 - val_loss: 0.0180 - val_acc: 0.0088\n",
      "Epoch 40/50\n",
      "7500/7500 [==============================] - 1s - loss: 0.0170 - acc: 0.0104 - val_loss: 0.0177 - val_acc: 0.0072\n",
      "Epoch 41/50\n",
      "7500/7500 [==============================] - 1s - loss: 0.0167 - acc: 0.0116 - val_loss: 0.0174 - val_acc: 0.0080\n",
      "Epoch 42/50\n",
      "7500/7500 [==============================] - 1s - loss: 0.0164 - acc: 0.0107 - val_loss: 0.0171 - val_acc: 0.0076\n",
      "Epoch 43/50\n",
      "7500/7500 [==============================] - 1s - loss: 0.0161 - acc: 0.0109 - val_loss: 0.0169 - val_acc: 0.0064\n",
      "Epoch 44/50\n",
      "7500/7500 [==============================] - 1s - loss: 0.0159 - acc: 0.0105 - val_loss: 0.0166 - val_acc: 0.0080\n",
      "Epoch 45/50\n",
      "7500/7500 [==============================] - 1s - loss: 0.0156 - acc: 0.0096 - val_loss: 0.0164 - val_acc: 0.0072\n",
      "Epoch 46/50\n",
      "7500/7500 [==============================] - 1s - loss: 0.0153 - acc: 0.0108 - val_loss: 0.0161 - val_acc: 0.0068\n",
      "Epoch 47/50\n",
      "7500/7500 [==============================] - 1s - loss: 0.0150 - acc: 0.0112 - val_loss: 0.0158 - val_acc: 0.0096\n",
      "Epoch 48/50\n",
      "7500/7500 [==============================] - 1s - loss: 0.0147 - acc: 0.0112 - val_loss: 0.0156 - val_acc: 0.0084\n",
      "Epoch 49/50\n",
      "7500/7500 [==============================] - 1s - loss: 0.0145 - acc: 0.0103 - val_loss: 0.0154 - val_acc: 0.0104\n",
      "Epoch 50/50\n",
      "7500/7500 [==============================] - 1s - loss: 0.0142 - acc: 0.0103 - val_loss: 0.0152 - val_acc: 0.0096\n"
     ]
    }
   ],
   "source": [
    "hist = model.fit(data[:7500], data[:7500],\n",
    "                epochs=50,\n",
    "                shuffle=True,\n",
    "                batch_size=100,\n",
    "                validation_data=(data[7500:], data[7500:]))"
   ]
  },
  {
   "cell_type": "code",
   "execution_count": 16,
   "metadata": {},
   "outputs": [
    {
     "name": "stdout",
     "output_type": "stream",
     "text": [
      "(100, 100)\n"
     ]
    }
   ],
   "source": [
    "ex = encoder.predict(data[:100])\n",
    "print ex.shape"
   ]
  },
  {
   "cell_type": "code",
   "execution_count": 17,
   "metadata": {},
   "outputs": [
    {
     "name": "stdout",
     "output_type": "stream",
     "text": [
      "(100, 784)\n"
     ]
    }
   ],
   "source": [
    "dx = decoder.predict(ex)\n",
    "print dx.shape"
   ]
  },
  {
   "cell_type": "code",
   "execution_count": 18,
   "metadata": {},
   "outputs": [
    {
     "data": {
      "text/plain": [
       "<matplotlib.image.AxesImage at 0x120c8b690>"
      ]
     },
     "execution_count": 18,
     "metadata": {},
     "output_type": "execute_result"
    },
    {
     "data": {
      "image/png": "[encoded data removed]",
      "text/plain": [
       "<matplotlib.figure.Figure at 0x11e1b0e50>"
      ]
     },
     "metadata": {},
     "output_type": "display_data"
    },
    {
     "data": {
      "image/png": "[encoded data removed]",
      "text/plain": [
       "<matplotlib.figure.Figure at 0x124c20950>"
      ]
     },
     "metadata": {},
     "output_type": "display_data"
    }
   ],
   "source": [
    "n = np.random.choice(range(100))\n",
    "plt.figure(0)\n",
    "plt.grid('off')\n",
    "plt.imshow(data[n].reshape((28, 28)), cmap='gray')\n",
    "\n",
    "plt.figure(1)\n",
    "plt.grid('off')\n",
    "plt.imshow(dx[n].reshape((28, 28)), cmap='gray')"
   ]
  },
  {
   "cell_type": "code",
   "execution_count": null,
   "metadata": {
    "collapsed": true
   },
   "outputs": [],
   "source": []
  }
 ],
 "metadata": {
  "kernelspec": {
   "display_name": "Python 2",
   "language": "python",
   "name": "python2"
  },
  "language_info": {
   "codemirror_mode": {
    "name": "ipython",
    "version": 2
   },
   "file_extension": ".py",
   "mimetype": "text/x-python",
   "name": "python",
   "nbconvert_exporter": "python",
   "pygments_lexer": "ipython2",
   "version": "2.7.13"
  }
 },
 "nbformat": 4,
 "nbformat_minor": 2
}
